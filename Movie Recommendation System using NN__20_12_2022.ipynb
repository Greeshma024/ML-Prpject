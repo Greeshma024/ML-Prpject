{
 "cells": [
  {
   "cell_type": "markdown",
   "metadata": {},
   "source": [
    "<hr style=\"height:2px;border-width:0;color:gray;background-color:rgb(205, 0, 153)\">\n",
    "\n",
    "## Movie Recommendation System using Collaborative Filtering, Neural Networks with Tensorflow</center>\n",
    "\n",
    "<hr style=\"height:2px;border-width:0;color:gray;background-color:rgb(205, 0, 153)\">\n"
   ]
  },
  {
   "cell_type": "markdown",
   "metadata": {},
   "source": [
    "<a class=\"anchor\" id=\"bcImp\"></a>\n",
    "## <span style='color:rgb(205, 0, 153)'>Table of Contents</span>\n",
    "* [<b>Objective</b>](#abstract)\n",
    "<a class=\"anchor\" id=\"abstract\"></a>\n",
    "* [<b>Introduction</b>](#introduction)\n",
    "<a class=\"anchor\" id=\"importanchor\"></a>\n",
    "* [<b>Data Overview</b>](#overview)\n",
    "<a class=\"anchor\" id=\"overviewanchor\"></a>\n",
    "     * [Dataset](#aboutdataset)\n",
    "     * [Import the dependencies and load the dataset](#loadinglib)\n",
    "     * [Dimension of the dataset](#dtraintest)\n",
    "* [<b>Exploratory Data Analysys (EDA)</b>](#eda)\n",
    "<a class=\"anchor\" id=\"edaanchor\"></a>\n",
    "     * [Distribution of Ratings in the Whole Dataset](#distWhole)\n",
    "     * [Content-based and well-liked based analysis in the Whole Dataset](#contentbasedWhole)\n",
    "     * [Distribution of Ratings in the Training Dataset](#distTrain)\n",
    "     * [Distribution of Ratings in the Test Dataset](#distTest)\n",
    "* [<b>Building a Movie Recommendation System Models </b>](#modeling)\n",
    "<a class=\"anchor\" id=\"modelanchor\"></a>\n",
    "     * [Model 1- Matrix Factorization Method using Neural Networks](#model1)\n",
    "     * [Model 2 - Tabular Data Method using Neural Networks](#model2)\n",
    "     * [Model 3 - Collaborative Filtering Model with fast.ai](#model3)\n",
    "     * [Model 4 - Collaborative Filtering with Neural Network (FastAI)](#model4)\n",
    "* [<b>Results and Model Comparison</b>](#modelcomparison)\n",
    "<a class=\"anchor\" id=\"bcImp1\"></a>\n",
    "     * [Performance of the models](#modelcomparison)\n",
    "* [<b>Saving and loading the models for the Deployment</b>](#modeldeployment)\n",
    "<a class=\"anchor\" id=\"bcImp1\"></a>\n",
    "* [<b>Movie Recommendation System</b>](#MRSExample)\n",
    "<a class=\"anchor\" id=\"bcImp1\"></a>"
   ]
  },
  {
   "cell_type": "markdown",
   "metadata": {},
   "source": [
    "## <span style='color:rgb(205, 0, 153)'>1 | Objective </span><a class=\"anchor\" id=\"abstract\"></a> \n",
    "[Back to Table of Contents](#abstract)\n",
    "<hr>\n",
    "\n",
    "Our main objective is to build Movie Recommendation System model using Machine Learning (ML) techniques to filter and predict only those movies that a corresponding user is most likely to want to watch. "
   ]
  },
  {
   "cell_type": "markdown",
   "metadata": {},
   "source": [
    "## <span style='color:rgb(205, 0, 153)'>2 | Introduction </span><a class=\"anchor\" id=\"introduction\"></a> \n",
    "[Back to Table of Contents](#importanchor)\n",
    "<hr>\n",
    "\n",
    "We have developed and comapred four models namely __1)__. Model 1- Matrix Factorization Method using Neural Networks, __2)__. Model 2 - Tabular Data Method using Neural Networks, __3)__. Model 3 - Collaborative Filtering Model with [fast.ai](#2), and __4)__. Model 4 - Collaborative Filtering with Neural Network ([fast.ai](#2)). \n",
    "\n",
    "### <span style='color:rgb(205, 0, 153)'>Evaluation Measures </span><a class=\"anchor\" id=\"evaluationmeasures\"></a> \n",
    "\n",
    "The dataset was randomly split into a training set and a testing set. The data of 80% were used to develop our models, while the data of 20% were used as a testing set.\n",
    "\n",
    "We evaluate our recommender system’s performance using mean absolute error (MAE). Lower MAE values indicate lower error rates which translate into better performance.\n",
    "\n",
    "__Mean Absolute Error__\n",
    "\n",
    "The __Mean Absolute Error (MAE)__ is the average of all absolute errors. It is given by the formula below:"
   ]
  },
  {
   "attachments": {
    "MAE.png": {
     "image/png": "[encoded data removed]"
    }
   },
   "cell_type": "markdown",
   "metadata": {},
   "source": [
    "![MAE.png](attachment:MAE.png)"
   ]
  },
  {
   "cell_type": "markdown",
   "metadata": {},
   "source": [
    "## <span style='color:rgb(205, 0, 153)'>3 | Data Overview </span><a class=\"anchor\" id=\"overview\"></a> \n",
    "[Back to Table of Contents](#overviewanchor)\n",
    "<hr>\n",
    "\n",
    "### <span style='color:rgb(205, 0, 153)'>3.1 | Dataset </span><a class=\"anchor\" id=\"aboutdataset\"></a> \n",
    "[Back to Table of Contents](#overviewanchor)\n",
    "\n",
    "We used classic MovieLens dataset [[1](#1)] for building the Movie Recommendation System models using Machine Learning to predict ratings. The dataset is divided into four CSV files: ratings, movies, links, and tags. We will only use the ratings and movies datasets to create this recommender system. \n",
    "\n",
    "The ratings dataset contains approximately 600 users given over 100,000 ratings for more than 9,000 movies. The movies dataset contains the movieId the corresponding title of the movie, and the genre of each movie."
   ]
  },
  {
   "cell_type": "markdown",
   "metadata": {},
   "source": [
    "### <span style='color:rgb(205, 0, 153)'>3.2 | Import the dependencies and load the dataset </span><a class=\"anchor\" id=\"loadinglib\"></a> \n",
    "[Back to Table of Contents](#overviewanchor)"
   ]
  },
  {
   "cell_type": "code",
   "execution_count": null,
   "metadata": {},
   "outputs": [],
   "source": [
    "#!pip install fastai"
   ]
  },
  {
   "cell_type": "code",
   "execution_count": 364,
   "metadata": {},
   "outputs": [
    {
     "data": {
      "text/html": [
       "        <script type=\"text/javascript\">\n",
       "        window.PlotlyConfig = {MathJaxConfig: 'local'};\n",
       "        if (window.MathJax) {MathJax.Hub.Config({SVG: {font: \"STIX-Web\"}});}\n",
       "        if (typeof require !== 'undefined') {\n",
       "        require.undef(\"plotly\");\n",
       "        requirejs.config({\n",
       "            paths: {\n",
       "                'plotly': ['https://cdn.plot.ly/plotly-2.9.0.min']\n",
       "            }\n",
       "        });\n",
       "        require(['plotly'], function(Plotly) {\n",
       "            window._Plotly = Plotly;\n",
       "        });\n",
       "        }\n",
       "        </script>\n",
       "        "
      ]
     },
     "metadata": {},
     "output_type": "display_data"
    }
   ],
   "source": [
    "import numpy as np\n",
    "import pandas as pd\n",
    "import matplotlib.pyplot as plt\n",
    "import os\n",
    "import warnings\n",
    "warnings.filterwarnings('ignore')\n",
    "%matplotlib inline\n",
    "import seaborn as sns\n",
    "from platform import python_version\n",
    "#import plotly.express as px\n",
    "#import plotly.graph_objects as go\n",
    "from sklearn.preprocessing import LabelEncoder\n",
    "\n",
    "#from plotly.offline import init_notebook_mode\n",
    "init_notebook_mode(connected=True)\n",
    "\n",
    "import tensorflow as tf\n",
    "from keras.models import load_model\n",
    "from keras.models import Sequential, Model\n",
    "from sklearn.model_selection import train_test_split\n",
    "from keras.layers import Input, Embedding, Flatten, Dense, Dropout, concatenate, multiply, Dot"
   ]
  },
  {
   "cell_type": "markdown",
   "metadata": {},
   "source": [
    "#### <span style='color:rgb(205, 0, 153)'>Check the Version </span><a class=\"anchor\" id=\"distdata\"></a> "
   ]
  },
  {
   "cell_type": "code",
   "execution_count": 366,
   "metadata": {},
   "outputs": [
    {
     "name": "stdout",
     "output_type": "stream",
     "text": [
      "Python version: 3.9.12\n",
      "Tensorflow version: 2.9.1\n",
      "Keras version: 2.9.0\n"
     ]
    }
   ],
   "source": [
    "print('Python version:', python_version())\n",
    "print('Tensorflow version:', tf.__version__)\n",
    "print('Keras version:', tf.keras.__version__)"
   ]
  },
  {
   "cell_type": "code",
   "execution_count": 250,
   "metadata": {},
   "outputs": [],
   "source": [
    "# Please add path\n",
    "rating_df = pd.read_csv('/ratings.csv')\n",
    "movie_df = pd.read_csv('/movies.csv')"
   ]
  },
  {
   "cell_type": "code",
   "execution_count": 251,
   "metadata": {},
   "outputs": [],
   "source": [
    "# Please add path\n",
    "train_df = pd.read_csv('/train.csv')\n",
    "test_df = pd.read_csv('/test.csv')"
   ]
  },
  {
   "cell_type": "markdown",
   "metadata": {},
   "source": [
    "### <span style='color:rgb(205, 0, 153)'>Splitting the data into training and testing </span><a class=\"anchor\" id=\"traintest\"></a> "
   ]
  },
  {
   "cell_type": "code",
   "execution_count": 330,
   "metadata": {},
   "outputs": [],
   "source": [
    "#X = rating_df[['userId', 'movieId']].values\n",
    "#y = rating_df['rating'].values\n",
    "#X_train, X_test, y_train, y_test = train_test_split(X, y, test_size=0.2, random_state=50)"
   ]
  },
  {
   "cell_type": "code",
   "execution_count": null,
   "metadata": {},
   "outputs": [],
   "source": [
    "#X_train.shape, X_test.shape, y_train.shape, y_test.shape"
   ]
  },
  {
   "cell_type": "code",
   "execution_count": null,
   "metadata": {},
   "outputs": [],
   "source": [
    "#X_train_arr = [X_train[:, 0], X_train[:, 1]]\n",
    "#X_test_arr = [X_test[:, 0], X_test[:, 1]]"
   ]
  },
  {
   "cell_type": "code",
   "execution_count": null,
   "metadata": {},
   "outputs": [],
   "source": [
    "#X_train, X_train_arr, X_train_arr[0].shape"
   ]
  },
  {
   "cell_type": "code",
   "execution_count": null,
   "metadata": {},
   "outputs": [],
   "source": [
    "#train_df[\"rating\"].replace({0.5:1,1.5:2,2.5:3,3.5:4,4.5:5},inplace=True)\n",
    "#vals_to_replace = {0.5:1,1.0:1,1.5:2,2.0:2,2.5:3,3.0:3,3.5:4,4.0:4,4.5:5,5:5}\n",
    "#train_df['rating_round']=train_df['rating'].map(vals_to_replace)\n",
    "#test_df['rating_round']=test_df['rating'].map(vals_to_replace)\n",
    "#rating_df['rating_round'] = rating_df['rating'].map(vals_to_replace)"
   ]
  },
  {
   "cell_type": "markdown",
   "metadata": {},
   "source": [
    "### <span style='color:rgb(205, 0, 153)'>3.3 | Dimension of the dataset </span><a class=\"anchor\" id=\"dtraintest\"></a> \n",
    "[Back to Table of Contents](#overviewanchor)"
   ]
  },
  {
   "cell_type": "markdown",
   "metadata": {},
   "source": [
    "### <span style='color:rgb(205, 0, 153)'>Dimension of the whole dataset </span><a class=\"anchor\" id=\"distdata\"></a> "
   ]
  },
  {
   "cell_type": "code",
   "execution_count": 252,
   "metadata": {},
   "outputs": [
    {
     "name": "stdout",
     "output_type": "stream",
     "text": [
      "The whole dataset includes 100836 ratings by 610 unique users for 9724 unique movies\n"
     ]
    }
   ],
   "source": [
    "n_users, n_movies = len(rating_df.userId.unique()), len(rating_df.movieId.unique())\n",
    "print(\"The whole dataset includes {} ratings by {} unique users for {} unique movies\".format(len(rating_df),n_users,n_movies))"
   ]
  },
  {
   "cell_type": "code",
   "execution_count": 253,
   "metadata": {},
   "outputs": [
    {
     "name": "stdout",
     "output_type": "stream",
     "text": [
      "<class 'pandas.core.frame.DataFrame'>\n",
      "RangeIndex: 100836 entries, 0 to 100835\n",
      "Data columns (total 4 columns):\n",
      " #   Column     Non-Null Count   Dtype  \n",
      "---  ------     --------------   -----  \n",
      " 0   userId     100836 non-null  int64  \n",
      " 1   movieId    100836 non-null  int64  \n",
      " 2   rating     100836 non-null  float64\n",
      " 3   timestamp  100836 non-null  int64  \n",
      "dtypes: float64(1), int64(3)\n",
      "memory usage: 3.1 MB\n"
     ]
    }
   ],
   "source": [
    "rating_df.info()"
   ]
  },
  {
   "cell_type": "code",
   "execution_count": 254,
   "metadata": {
    "execution": {
     "iopub.execute_input": "2022-12-14T18:40:25.116150Z",
     "iopub.status.busy": "2022-12-14T18:40:25.115706Z",
     "iopub.status.idle": "2022-12-14T18:40:25.129396Z",
     "shell.execute_reply": "2022-12-14T18:40:25.127911Z",
     "shell.execute_reply.started": "2022-12-14T18:40:25.116116Z"
    }
   },
   "outputs": [
    {
     "data": {
      "text/html": [
       "<div>\n",
       "<style scoped>\n",
       "    .dataframe tbody tr th:only-of-type {\n",
       "        vertical-align: middle;\n",
       "    }\n",
       "\n",
       "    .dataframe tbody tr th {\n",
       "        vertical-align: top;\n",
       "    }\n",
       "\n",
       "    .dataframe thead th {\n",
       "        text-align: right;\n",
       "    }\n",
       "</style>\n",
       "<table border=\"1\" class=\"dataframe\">\n",
       "  <thead>\n",
       "    <tr style=\"text-align: right;\">\n",
       "      <th></th>\n",
       "      <th>userId</th>\n",
       "      <th>movieId</th>\n",
       "      <th>rating</th>\n",
       "      <th>timestamp</th>\n",
       "    </tr>\n",
       "  </thead>\n",
       "  <tbody>\n",
       "    <tr>\n",
       "      <th>0</th>\n",
       "      <td>1</td>\n",
       "      <td>1</td>\n",
       "      <td>4.0</td>\n",
       "      <td>964982703</td>\n",
       "    </tr>\n",
       "    <tr>\n",
       "      <th>1</th>\n",
       "      <td>1</td>\n",
       "      <td>3</td>\n",
       "      <td>4.0</td>\n",
       "      <td>964981247</td>\n",
       "    </tr>\n",
       "    <tr>\n",
       "      <th>2</th>\n",
       "      <td>1</td>\n",
       "      <td>6</td>\n",
       "      <td>4.0</td>\n",
       "      <td>964982224</td>\n",
       "    </tr>\n",
       "    <tr>\n",
       "      <th>3</th>\n",
       "      <td>1</td>\n",
       "      <td>47</td>\n",
       "      <td>5.0</td>\n",
       "      <td>964983815</td>\n",
       "    </tr>\n",
       "    <tr>\n",
       "      <th>4</th>\n",
       "      <td>1</td>\n",
       "      <td>50</td>\n",
       "      <td>5.0</td>\n",
       "      <td>964982931</td>\n",
       "    </tr>\n",
       "  </tbody>\n",
       "</table>\n",
       "</div>"
      ],
      "text/plain": [
       "   userId  movieId  rating  timestamp\n",
       "0       1        1     4.0  964982703\n",
       "1       1        3     4.0  964981247\n",
       "2       1        6     4.0  964982224\n",
       "3       1       47     5.0  964983815\n",
       "4       1       50     5.0  964982931"
      ]
     },
     "execution_count": 254,
     "metadata": {},
     "output_type": "execute_result"
    }
   ],
   "source": [
    "rating_df.head()"
   ]
  },
  {
   "cell_type": "markdown",
   "metadata": {},
   "source": [
    "### <span style='color:rgb(205, 0, 153)'>Dimension of the traing dataset </span><a class=\"anchor\" id=\"disttrain\"></a> "
   ]
  },
  {
   "cell_type": "code",
   "execution_count": 255,
   "metadata": {},
   "outputs": [
    {
     "name": "stdout",
     "output_type": "stream",
     "text": [
      "The training dataset includes 80669 ratings by 610 unique users for 8954 unique movies\n"
     ]
    }
   ],
   "source": [
    "n_users, n_movies = len(train_df.userId.unique()), len(train_df.movieId.unique())\n",
    "print(\"The training dataset includes {} ratings by {} unique users for {} unique movies\".format(len(train_df),n_users,n_movies))"
   ]
  },
  {
   "cell_type": "code",
   "execution_count": 256,
   "metadata": {},
   "outputs": [
    {
     "name": "stdout",
     "output_type": "stream",
     "text": [
      "<class 'pandas.core.frame.DataFrame'>\n",
      "RangeIndex: 80669 entries, 0 to 80668\n",
      "Data columns (total 3 columns):\n",
      " #   Column   Non-Null Count  Dtype  \n",
      "---  ------   --------------  -----  \n",
      " 0   userId   80669 non-null  int64  \n",
      " 1   movieId  80669 non-null  int64  \n",
      " 2   rating   80669 non-null  float64\n",
      "dtypes: float64(1), int64(2)\n",
      "memory usage: 1.8 MB\n"
     ]
    }
   ],
   "source": [
    "train_df.info()"
   ]
  },
  {
   "cell_type": "code",
   "execution_count": 257,
   "metadata": {
    "execution": {
     "iopub.execute_input": "2022-12-14T18:40:28.193561Z",
     "iopub.status.busy": "2022-12-14T18:40:28.192699Z",
     "iopub.status.idle": "2022-12-14T18:40:28.205060Z",
     "shell.execute_reply": "2022-12-14T18:40:28.204077Z",
     "shell.execute_reply.started": "2022-12-14T18:40:28.193521Z"
    }
   },
   "outputs": [
    {
     "data": {
      "text/html": [
       "<div>\n",
       "<style scoped>\n",
       "    .dataframe tbody tr th:only-of-type {\n",
       "        vertical-align: middle;\n",
       "    }\n",
       "\n",
       "    .dataframe tbody tr th {\n",
       "        vertical-align: top;\n",
       "    }\n",
       "\n",
       "    .dataframe thead th {\n",
       "        text-align: right;\n",
       "    }\n",
       "</style>\n",
       "<table border=\"1\" class=\"dataframe\">\n",
       "  <thead>\n",
       "    <tr style=\"text-align: right;\">\n",
       "      <th></th>\n",
       "      <th>userId</th>\n",
       "      <th>movieId</th>\n",
       "      <th>rating</th>\n",
       "    </tr>\n",
       "  </thead>\n",
       "  <tbody>\n",
       "    <tr>\n",
       "      <th>0</th>\n",
       "      <td>1</td>\n",
       "      <td>0</td>\n",
       "      <td>4.0</td>\n",
       "    </tr>\n",
       "    <tr>\n",
       "      <th>1</th>\n",
       "      <td>1</td>\n",
       "      <td>1</td>\n",
       "      <td>4.0</td>\n",
       "    </tr>\n",
       "    <tr>\n",
       "      <th>2</th>\n",
       "      <td>1</td>\n",
       "      <td>2</td>\n",
       "      <td>4.0</td>\n",
       "    </tr>\n",
       "    <tr>\n",
       "      <th>3</th>\n",
       "      <td>1</td>\n",
       "      <td>3</td>\n",
       "      <td>5.0</td>\n",
       "    </tr>\n",
       "    <tr>\n",
       "      <th>4</th>\n",
       "      <td>1</td>\n",
       "      <td>4</td>\n",
       "      <td>3.0</td>\n",
       "    </tr>\n",
       "  </tbody>\n",
       "</table>\n",
       "</div>"
      ],
      "text/plain": [
       "   userId  movieId  rating\n",
       "0       1        0     4.0\n",
       "1       1        1     4.0\n",
       "2       1        2     4.0\n",
       "3       1        3     5.0\n",
       "4       1        4     3.0"
      ]
     },
     "execution_count": 257,
     "metadata": {},
     "output_type": "execute_result"
    }
   ],
   "source": [
    "train_df.head()"
   ]
  },
  {
   "cell_type": "markdown",
   "metadata": {},
   "source": [
    "### <span style='color:rgb(205, 0, 153)'>Dimension of the test dataset </span><a class=\"anchor\" id=\"distdata\"></a> "
   ]
  },
  {
   "cell_type": "code",
   "execution_count": 258,
   "metadata": {},
   "outputs": [
    {
     "name": "stdout",
     "output_type": "stream",
     "text": [
      "The training dataset includes 20167 ratings by 610 unique users for 5138 unique movies\n"
     ]
    }
   ],
   "source": [
    "n_users, n_movies = len(test_df.userId.unique()), len(test_df.movieId.unique())\n",
    "print(\"The training dataset includes {} ratings by {} unique users for {} unique movies\".format(len(test_df),n_users,n_movies))"
   ]
  },
  {
   "cell_type": "code",
   "execution_count": 259,
   "metadata": {},
   "outputs": [
    {
     "name": "stdout",
     "output_type": "stream",
     "text": [
      "<class 'pandas.core.frame.DataFrame'>\n",
      "RangeIndex: 20167 entries, 0 to 20166\n",
      "Data columns (total 3 columns):\n",
      " #   Column   Non-Null Count  Dtype  \n",
      "---  ------   --------------  -----  \n",
      " 0   userId   20167 non-null  int64  \n",
      " 1   movieId  20167 non-null  int64  \n",
      " 2   rating   20167 non-null  float64\n",
      "dtypes: float64(1), int64(2)\n",
      "memory usage: 472.8 KB\n"
     ]
    }
   ],
   "source": [
    "test_df.info()"
   ]
  },
  {
   "cell_type": "code",
   "execution_count": 260,
   "metadata": {
    "execution": {
     "iopub.execute_input": "2022-12-14T18:40:34.664726Z",
     "iopub.status.busy": "2022-12-14T18:40:34.663890Z",
     "iopub.status.idle": "2022-12-14T18:40:34.676657Z",
     "shell.execute_reply": "2022-12-14T18:40:34.675531Z",
     "shell.execute_reply.started": "2022-12-14T18:40:34.664669Z"
    }
   },
   "outputs": [
    {
     "data": {
      "text/html": [
       "<div>\n",
       "<style scoped>\n",
       "    .dataframe tbody tr th:only-of-type {\n",
       "        vertical-align: middle;\n",
       "    }\n",
       "\n",
       "    .dataframe tbody tr th {\n",
       "        vertical-align: top;\n",
       "    }\n",
       "\n",
       "    .dataframe thead th {\n",
       "        text-align: right;\n",
       "    }\n",
       "</style>\n",
       "<table border=\"1\" class=\"dataframe\">\n",
       "  <thead>\n",
       "    <tr style=\"text-align: right;\">\n",
       "      <th></th>\n",
       "      <th>userId</th>\n",
       "      <th>movieId</th>\n",
       "      <th>rating</th>\n",
       "    </tr>\n",
       "  </thead>\n",
       "  <tbody>\n",
       "    <tr>\n",
       "      <th>0</th>\n",
       "      <td>1</td>\n",
       "      <td>0</td>\n",
       "      <td>5.0</td>\n",
       "    </tr>\n",
       "    <tr>\n",
       "      <th>1</th>\n",
       "      <td>1</td>\n",
       "      <td>1</td>\n",
       "      <td>5.0</td>\n",
       "    </tr>\n",
       "    <tr>\n",
       "      <th>2</th>\n",
       "      <td>1</td>\n",
       "      <td>2</td>\n",
       "      <td>4.0</td>\n",
       "    </tr>\n",
       "    <tr>\n",
       "      <th>3</th>\n",
       "      <td>1</td>\n",
       "      <td>3</td>\n",
       "      <td>4.0</td>\n",
       "    </tr>\n",
       "    <tr>\n",
       "      <th>4</th>\n",
       "      <td>1</td>\n",
       "      <td>4</td>\n",
       "      <td>4.0</td>\n",
       "    </tr>\n",
       "  </tbody>\n",
       "</table>\n",
       "</div>"
      ],
      "text/plain": [
       "   userId  movieId  rating\n",
       "0       1        0     5.0\n",
       "1       1        1     5.0\n",
       "2       1        2     4.0\n",
       "3       1        3     4.0\n",
       "4       1        4     4.0"
      ]
     },
     "execution_count": 260,
     "metadata": {},
     "output_type": "execute_result"
    }
   ],
   "source": [
    "test_df.head()"
   ]
  },
  {
   "cell_type": "markdown",
   "metadata": {},
   "source": [
    "## <span style='color:rgb(205, 0, 153)'>4 | Exploratory Data Analysis </span><a class=\"anchor\" id=\"eda\"></a> \n",
    "[Back to Table of Contents](#edaanchor)\n",
    "<hr>"
   ]
  },
  {
   "cell_type": "code",
   "execution_count": 261,
   "metadata": {
    "execution": {
     "iopub.execute_input": "2022-12-14T18:40:44.229087Z",
     "iopub.status.busy": "2022-12-14T18:40:44.228662Z",
     "iopub.status.idle": "2022-12-14T18:40:44.237478Z",
     "shell.execute_reply": "2022-12-14T18:40:44.236236Z",
     "shell.execute_reply.started": "2022-12-14T18:40:44.229056Z"
    }
   },
   "outputs": [],
   "source": [
    "sns.set_style(\"white\")\n",
    "sns.set(rc={\"axes.facecolor\":\"#f4f0bb\",\"figure.facecolor\":\"#f4f0bb\"})\n",
    "sns.set_context(\"poster\",font_scale = .5)\n",
    "\n",
    "palette = [\"#11264e\",\"#00507A\",\"#026e90\",\"#008b99\",\"#6faea4\",\"#dcbd6e\",\"#dddf00\",\"#faa96e\",\"#f36b3b\",\"#ef3f28\",\"#CC0028\"]\n",
    "palette_cmap=[\"#CC0028\",\"#ef3f28\",\"#f36b3b\",\"#faa96e\",\"#FEE08B\",\"#fcdcb0\",\"#6faea4\",\"#008b99\",\"#026e90\",\"#00507A\",\"#11264e\"]\n",
    "\n",
    "# sns.palplot(sns.color_palette(palette))\n",
    "# sns.palplot(sns.color_palette(palette_cmap))\n",
    "# plt.show()"
   ]
  },
  {
   "cell_type": "markdown",
   "metadata": {},
   "source": [
    "### <span style='color:rgb(205, 0, 153)'>4.1 | Distribution of Ratings in the Whole Dataset </span><a class=\"anchor\" id=\"distWhole\"></a> \n",
    "[Back to Table of Contents](#edaanchor)\n",
    "<hr>"
   ]
  },
  {
   "cell_type": "code",
   "execution_count": 262,
   "metadata": {
    "execution": {
     "iopub.execute_input": "2022-12-14T18:40:47.637577Z",
     "iopub.status.busy": "2022-12-14T18:40:47.636909Z",
     "iopub.status.idle": "2022-12-14T18:40:47.950774Z",
     "shell.execute_reply": "2022-12-14T18:40:47.949543Z",
     "shell.execute_reply.started": "2022-12-14T18:40:47.637539Z"
    }
   },
   "outputs": [
    {
     "name": "stdout",
     "output_type": "stream",
     "text": [
      "Let's have a look on the distribution of ratings in the whole dataset :\n"
     ]
    },
    {
     "data": {
      "image/png": "[encoded data removed]",
      "text/plain": [
       "<Figure size 1152x648 with 1 Axes>"
      ]
     },
     "metadata": {},
     "output_type": "display_data"
    }
   ],
   "source": [
    "print(\"Let's have a look on the distribution of ratings in the whole dataset :\")\n",
    "plt.subplots(figsize=(16, 9))\n",
    "cp=sns.countplot(x=rating_df[\"rating\"],palette=palette, saturation=1, edgecolor = \"#1c1c1c\", linewidth = 3)\n",
    "#p=sns.countplot(x=train_df[\"rating_round\"],order=train_df[\"rating_round\"].value_counts().index[:11],palette=palette, saturation=1, edgecolor = \"#1c1c1c\", linewidth = 4)\n",
    "cp.axes.set_title(\"\\nDistribution of Ratings in the Whole Dataset\\n\",fontsize=20)\n",
    "cp.axes.set_xlabel(\"Ratings\",fontsize=18)\n",
    "cp.axes.set_ylabel(\"Rating Counts\",fontsize=18)\n",
    "cp.axes.set_xticklabels(cp.get_xticklabels(),rotation = 0)\n",
    "for container in cp.containers:\n",
    "    cp.bar_label(container,label_type=\"center\",padding=6,size=25,color=\"black\",rotation=0,\n",
    "    bbox={\"boxstyle\": \"round\", \"pad\": 0.4, \"facecolor\": \"orange\", \"edgecolor\": \"#1c1c1c\", \"linewidth\" : 4, \"alpha\": 1})\n",
    "\n",
    "\n",
    "sns.despine(left=True, bottom=True)\n",
    "plt.show()"
   ]
  },
  {
   "cell_type": "markdown",
   "metadata": {},
   "source": [
    "Graph indicates most of the users have watched movies with a 4 star rating and followed by 3 star and 5 star."
   ]
  },
  {
   "cell_type": "markdown",
   "metadata": {},
   "source": [
    "### <span style='color:rgb(205, 0, 153)'>4.2 | Content-based and well-liked based analysis on the Whole Dataset </span><a class=\"anchor\" id=\"contentbasedWhole\"></a> \n",
    "[Back to Table of Contents](#edaanchor)\n",
    "<hr>\n",
    "\n",
    "#### <span style='color:rgb(205, 0, 153)'>Movies distribution based on their overall average rating in the Whole Dataset </span><a class=\"anchor\" id=\"distmovieswhole\"></a> "
   ]
  },
  {
   "cell_type": "code",
   "execution_count": 263,
   "metadata": {},
   "outputs": [
    {
     "data": {
      "text/html": [
       "<div>\n",
       "<style scoped>\n",
       "    .dataframe tbody tr th:only-of-type {\n",
       "        vertical-align: middle;\n",
       "    }\n",
       "\n",
       "    .dataframe tbody tr th {\n",
       "        vertical-align: top;\n",
       "    }\n",
       "\n",
       "    .dataframe thead th {\n",
       "        text-align: right;\n",
       "    }\n",
       "</style>\n",
       "<table border=\"1\" class=\"dataframe\">\n",
       "  <thead>\n",
       "    <tr style=\"text-align: right;\">\n",
       "      <th></th>\n",
       "      <th>userId</th>\n",
       "      <th>movieId</th>\n",
       "      <th>rating</th>\n",
       "      <th>timestamp</th>\n",
       "      <th>title</th>\n",
       "      <th>genres</th>\n",
       "    </tr>\n",
       "  </thead>\n",
       "  <tbody>\n",
       "    <tr>\n",
       "      <th>0</th>\n",
       "      <td>1</td>\n",
       "      <td>1</td>\n",
       "      <td>4.0</td>\n",
       "      <td>964982703</td>\n",
       "      <td>Toy Story (1995)</td>\n",
       "      <td>Adventure|Animation|Children|Comedy|Fantasy</td>\n",
       "    </tr>\n",
       "    <tr>\n",
       "      <th>1</th>\n",
       "      <td>5</td>\n",
       "      <td>1</td>\n",
       "      <td>4.0</td>\n",
       "      <td>847434962</td>\n",
       "      <td>Toy Story (1995)</td>\n",
       "      <td>Adventure|Animation|Children|Comedy|Fantasy</td>\n",
       "    </tr>\n",
       "    <tr>\n",
       "      <th>2</th>\n",
       "      <td>7</td>\n",
       "      <td>1</td>\n",
       "      <td>4.5</td>\n",
       "      <td>1106635946</td>\n",
       "      <td>Toy Story (1995)</td>\n",
       "      <td>Adventure|Animation|Children|Comedy|Fantasy</td>\n",
       "    </tr>\n",
       "    <tr>\n",
       "      <th>3</th>\n",
       "      <td>15</td>\n",
       "      <td>1</td>\n",
       "      <td>2.5</td>\n",
       "      <td>1510577970</td>\n",
       "      <td>Toy Story (1995)</td>\n",
       "      <td>Adventure|Animation|Children|Comedy|Fantasy</td>\n",
       "    </tr>\n",
       "    <tr>\n",
       "      <th>4</th>\n",
       "      <td>17</td>\n",
       "      <td>1</td>\n",
       "      <td>4.5</td>\n",
       "      <td>1305696483</td>\n",
       "      <td>Toy Story (1995)</td>\n",
       "      <td>Adventure|Animation|Children|Comedy|Fantasy</td>\n",
       "    </tr>\n",
       "  </tbody>\n",
       "</table>\n",
       "</div>"
      ],
      "text/plain": [
       "   userId  movieId  rating   timestamp             title  \\\n",
       "0       1        1     4.0   964982703  Toy Story (1995)   \n",
       "1       5        1     4.0   847434962  Toy Story (1995)   \n",
       "2       7        1     4.5  1106635946  Toy Story (1995)   \n",
       "3      15        1     2.5  1510577970  Toy Story (1995)   \n",
       "4      17        1     4.5  1305696483  Toy Story (1995)   \n",
       "\n",
       "                                        genres  \n",
       "0  Adventure|Animation|Children|Comedy|Fantasy  \n",
       "1  Adventure|Animation|Children|Comedy|Fantasy  \n",
       "2  Adventure|Animation|Children|Comedy|Fantasy  \n",
       "3  Adventure|Animation|Children|Comedy|Fantasy  \n",
       "4  Adventure|Animation|Children|Comedy|Fantasy  "
      ]
     },
     "execution_count": 263,
     "metadata": {},
     "output_type": "execute_result"
    }
   ],
   "source": [
    "user_movie_data = pd.merge(rating_df, movie_df, how='inner', on='movieId')\n",
    "user_movie_data.head()"
   ]
  },
  {
   "cell_type": "code",
   "execution_count": 264,
   "metadata": {},
   "outputs": [],
   "source": [
    "movies_highly_rated_avg = movie_rating_data.groupby(['title']).agg({\"rating\":\"mean\"})['rating'].sort_values(ascending=False)\n",
    "movies_highly_rated_avg = movies_highly_rated_avg.to_frame()"
   ]
  },
  {
   "cell_type": "code",
   "execution_count": 265,
   "metadata": {},
   "outputs": [
    {
     "data": {
      "text/html": [
       "<div>\n",
       "<style scoped>\n",
       "    .dataframe tbody tr th:only-of-type {\n",
       "        vertical-align: middle;\n",
       "    }\n",
       "\n",
       "    .dataframe tbody tr th {\n",
       "        vertical-align: top;\n",
       "    }\n",
       "\n",
       "    .dataframe thead th {\n",
       "        text-align: right;\n",
       "    }\n",
       "</style>\n",
       "<table border=\"1\" class=\"dataframe\">\n",
       "  <thead>\n",
       "    <tr style=\"text-align: right;\">\n",
       "      <th></th>\n",
       "      <th>rating</th>\n",
       "    </tr>\n",
       "    <tr>\n",
       "      <th>title</th>\n",
       "      <th></th>\n",
       "    </tr>\n",
       "  </thead>\n",
       "  <tbody>\n",
       "    <tr>\n",
       "      <th>Gena the Crocodile (1969)</th>\n",
       "      <td>5.0</td>\n",
       "    </tr>\n",
       "    <tr>\n",
       "      <th>True Stories (1986)</th>\n",
       "      <td>5.0</td>\n",
       "    </tr>\n",
       "    <tr>\n",
       "      <th>Cosmic Scrat-tastrophe (2015)</th>\n",
       "      <td>5.0</td>\n",
       "    </tr>\n",
       "    <tr>\n",
       "      <th>Love and Pigeons (1985)</th>\n",
       "      <td>5.0</td>\n",
       "    </tr>\n",
       "    <tr>\n",
       "      <th>Red Sorghum (Hong gao liang) (1987)</th>\n",
       "      <td>5.0</td>\n",
       "    </tr>\n",
       "    <tr>\n",
       "      <th>Thin Line Between Love and Hate, A (1996)</th>\n",
       "      <td>5.0</td>\n",
       "    </tr>\n",
       "    <tr>\n",
       "      <th>Lesson Faust (1994)</th>\n",
       "      <td>5.0</td>\n",
       "    </tr>\n",
       "    <tr>\n",
       "      <th>Eva (2011)</th>\n",
       "      <td>5.0</td>\n",
       "    </tr>\n",
       "    <tr>\n",
       "      <th>Who Killed Chea Vichea? (2010)</th>\n",
       "      <td>5.0</td>\n",
       "    </tr>\n",
       "    <tr>\n",
       "      <th>Siam Sunset (1999)</th>\n",
       "      <td>5.0</td>\n",
       "    </tr>\n",
       "  </tbody>\n",
       "</table>\n",
       "</div>"
      ],
      "text/plain": [
       "                                           rating\n",
       "title                                            \n",
       "Gena the Crocodile (1969)                     5.0\n",
       "True Stories (1986)                           5.0\n",
       "Cosmic Scrat-tastrophe (2015)                 5.0\n",
       "Love and Pigeons (1985)                       5.0\n",
       "Red Sorghum (Hong gao liang) (1987)           5.0\n",
       "Thin Line Between Love and Hate, A (1996)     5.0\n",
       "Lesson Faust (1994)                           5.0\n",
       "Eva (2011)                                    5.0\n",
       "Who Killed Chea Vichea? (2010)                5.0\n",
       "Siam Sunset (1999)                            5.0"
      ]
     },
     "execution_count": 265,
     "metadata": {},
     "output_type": "execute_result"
    }
   ],
   "source": [
    "movies_highly_rated_avg.head(10)"
   ]
  },
  {
   "cell_type": "code",
   "execution_count": 266,
   "metadata": {},
   "outputs": [
    {
     "name": "stdout",
     "output_type": "stream",
     "text": [
      "**************************************************\n",
      "Number of movies with rating on average\n",
      "**************************************************\n",
      "5 star rating on average == 5.0:  296\n",
      ">= 4 star and < 5 star rating on average:  1972\n",
      ">= 3 star and < 4 star rating on average:  4694\n",
      ">= 2 star and < 3 star rating on average:  2121\n",
      ">= 1 star and < 2 star rating on average:  528\n",
      "< 1 star rating on average:  108\n"
     ]
    }
   ],
   "source": [
    "print(50*\"*\")\n",
    "print(\"Number of movies with rating on average\")\n",
    "print(50*\"*\")\n",
    "print(\"5 star rating on average == 5.0: \",len(movies_highly_rated_avg[movies_highly_rated_avg['rating'] == 5.0]))\n",
    "print(\">= 4 star and < 5 star rating on average: \",len(movies_highly_rated_avg[(movies_highly_rated_avg['rating'] >= 4.0) & (movies_highly_rated_avg['rating'] < 5.0)]))\n",
    "print(\">= 3 star and < 4 star rating on average: \",len(movies_highly_rated_avg[(movies_highly_rated_avg['rating'] >= 3.0) & (movies_highly_rated_avg['rating'] < 4.0)]))\n",
    "print(\">= 2 star and < 3 star rating on average: \",len(movies_highly_rated_avg[(movies_highly_rated_avg['rating'] >= 2.0) & (movies_highly_rated_avg['rating'] < 3.0)]))\n",
    "print(\">= 1 star and < 2 star rating on average: \",len(movies_highly_rated_avg[(movies_highly_rated_avg['rating'] >= 1.0) & (movies_highly_rated_avg['rating'] < 2.0)]))\n",
    "print(\"< 1 star rating on average: \", len(movies_highly_rated_avg[(movies_highly_rated_avg['rating'] < 1.0)]))"
   ]
  },
  {
   "cell_type": "code",
   "execution_count": 267,
   "metadata": {},
   "outputs": [
    {
     "name": "stdout",
     "output_type": "stream",
     "text": [
      "Let's have a look on Movies count based on their overall average rating :\n"
     ]
    },
    {
     "data": {
      "image/png": "[encoded data removed]",
      "text/plain": [
       "<Figure size 936x936 with 1 Axes>"
      ]
     },
     "metadata": {},
     "output_type": "display_data"
    }
   ],
   "source": [
    "print(f\"Let's have a look on Movies count based on their overall average rating :\")\n",
    "plt.subplots(figsize=(13, 13))\n",
    "\n",
    "labels = '5 star', '4 to 5 star', '3 to 4 star', '2 to 3 star', '1 to 2 star', 'below 1 star'\n",
    "sizes = [296, 1972, 4694, 2121, 528, 108]\n",
    "size = 0.5\n",
    "\n",
    "wedges, texts, autotexts = plt.pie(sizes, labels=labels,\n",
    "                                    autopct = \"%.2f%%\", \n",
    "                                    pctdistance = 0.72,\n",
    "                                    radius=.9, \n",
    "                                    colors = [\"#11264e\",\"#dcbd6e\",\"#ef3f28\",\"#faa96e\",\"#dddf00\",\"#008b99\"], \n",
    "                                    shadow = True,\n",
    "                                    wedgeprops=dict(width = size, edgecolor = \"black\", \n",
    "                                    linewidth = 3),\n",
    "                                    startangle = 85)\n",
    "\n",
    "plt.legend(wedges, labels, title=\"Movies Count\",loc=\"center left\",bbox_to_anchor=(1, 0, 0.5, 1), edgecolor = \"black\")\n",
    "plt.show()"
   ]
  },
  {
   "cell_type": "markdown",
   "metadata": {},
   "source": [
    "Pie chart shows, most of the users have watched movies with a 3 to 4 star rating and followed by 2 to 3 star and 4 to 5 star."
   ]
  },
  {
   "cell_type": "markdown",
   "metadata": {},
   "source": [
    "#### <span style='color:rgb(205, 0, 153)'>Content-based analysis</span><a class=\"anchor\" id=\"contentwhole\"></a> "
   ]
  },
  {
   "cell_type": "code",
   "execution_count": 268,
   "metadata": {},
   "outputs": [],
   "source": [
    "highly_viewed_movies = movie_rating_data.groupby(['title']).agg({\"rating\":\"count\"})['rating'].sort_values(ascending=False)"
   ]
  },
  {
   "cell_type": "code",
   "execution_count": 269,
   "metadata": {},
   "outputs": [],
   "source": [
    "highly_viewed_movies = highly_viewed_movies.to_frame()\n",
    "highly_viewed_movies.reset_index(level=0, inplace=True)\n",
    "highly_viewed_movies.columns = ['title', 'Number of viewers']"
   ]
  },
  {
   "cell_type": "code",
   "execution_count": 270,
   "metadata": {},
   "outputs": [
    {
     "name": "stdout",
     "output_type": "stream",
     "text": [
      "**************************************************\n",
      "Number of movies with higher viewers\n",
      "**************************************************\n",
      ">25 viewers:  1050\n",
      ">=20 and <25 viewers:  247\n",
      ">=15 and <20 viewers:  353\n",
      ">=10 and <15 viewers:  619\n",
      ">=5 and <10 viewers:  1382\n",
      "<5 viewers:  6068\n"
     ]
    }
   ],
   "source": [
    "print(50*\"*\")\n",
    "print(\"Number of movies with higher viewers\")\n",
    "print(50*\"*\")\n",
    "print(\">25 viewers: \",len(highly_viewed_movies[highly_viewed_movies['Number of viewers'] >= 25]))\n",
    "print(\">=20 and <25 viewers: \",len(highly_viewed_movies[(highly_viewed_movies['Number of viewers'] >= 20) & (highly_viewed_movies['Number of viewers'] < 25)]))\n",
    "print(\">=15 and <20 viewers: \",len(highly_viewed_movies[(highly_viewed_movies['Number of viewers'] >= 15) & (highly_viewed_movies['Number of viewers'] < 20)]))\n",
    "print(\">=10 and <15 viewers: \",len(highly_viewed_movies[(highly_viewed_movies['Number of viewers'] >= 10) & (highly_viewed_movies['Number of viewers'] < 15)]))\n",
    "print(\">=5 and <10 viewers: \",len(highly_viewed_movies[(highly_viewed_movies['Number of viewers'] >= 5) & (highly_viewed_movies['Number of viewers'] < 10)]))\n",
    "print(\"<5 viewers: \", len(highly_viewed_movies[(highly_viewed_movies['Number of viewers'] < 5)]))"
   ]
  },
  {
   "cell_type": "code",
   "execution_count": 271,
   "metadata": {},
   "outputs": [
    {
     "name": "stdout",
     "output_type": "stream",
     "text": [
      "Let's have a look on number of movies with higher viewers :\n"
     ]
    },
    {
     "data": {
      "image/png": "[encoded data removed]",
      "text/plain": [
       "<Figure size 936x936 with 1 Axes>"
      ]
     },
     "metadata": {},
     "output_type": "display_data"
    }
   ],
   "source": [
    "print(f\"Let's have a look on number of movies with higher viewers :\")\n",
    "plt.subplots(figsize=(13, 13))\n",
    "\n",
    "labels = '>=25 viewers', '20 to 25 viewers', '15 to 20 viewers', '10 to 15 viewers', '5 to 10 viewers', 'less than 5 viewers'\n",
    "sizes = [1050, 247, 353, 619, 1382, 6068]\n",
    "size = 0.5\n",
    "\n",
    "wedges, texts, autotexts = plt.pie(sizes, labels=labels,\n",
    "                                    textprops=dict(size= 15, color= \"black\"),\n",
    "                                    autopct = \"%.2f%%\", \n",
    "                                    pctdistance = 0.72,\n",
    "                                    radius=.9, \n",
    "                                    colors = [\"#11264e\",\"#dcbd6e\",\"#ef3f28\",\"#faa96e\",\"#dddf00\",\"#008b99\"], \n",
    "                                    shadow = True,\n",
    "                                    wedgeprops=dict(width = size, edgecolor = \"black\", \n",
    "                                    linewidth = 3),\n",
    "                                    startangle = 85)\n",
    "\n",
    "plt.legend(wedges, labels, title=\"Movies Count\",loc=\"center left\",bbox_to_anchor=(1, 0, 0.5, 1), edgecolor = \"black\")\n",
    "plt.show()"
   ]
  },
  {
   "cell_type": "markdown",
   "metadata": {},
   "source": [
    "We can see the movies which have more than 25 viewers (most watched)."
   ]
  },
  {
   "cell_type": "code",
   "execution_count": 272,
   "metadata": {},
   "outputs": [
    {
     "data": {
      "text/html": [
       "<div>\n",
       "<style scoped>\n",
       "    .dataframe tbody tr th:only-of-type {\n",
       "        vertical-align: middle;\n",
       "    }\n",
       "\n",
       "    .dataframe tbody tr th {\n",
       "        vertical-align: top;\n",
       "    }\n",
       "\n",
       "    .dataframe thead th {\n",
       "        text-align: right;\n",
       "    }\n",
       "</style>\n",
       "<table border=\"1\" class=\"dataframe\">\n",
       "  <thead>\n",
       "    <tr style=\"text-align: right;\">\n",
       "      <th></th>\n",
       "      <th>title</th>\n",
       "      <th>Number of viewers</th>\n",
       "    </tr>\n",
       "  </thead>\n",
       "  <tbody>\n",
       "    <tr>\n",
       "      <th>0</th>\n",
       "      <td>Forrest Gump (1994)</td>\n",
       "      <td>329</td>\n",
       "    </tr>\n",
       "    <tr>\n",
       "      <th>1</th>\n",
       "      <td>Shawshank Redemption, The (1994)</td>\n",
       "      <td>317</td>\n",
       "    </tr>\n",
       "    <tr>\n",
       "      <th>2</th>\n",
       "      <td>Pulp Fiction (1994)</td>\n",
       "      <td>307</td>\n",
       "    </tr>\n",
       "    <tr>\n",
       "      <th>3</th>\n",
       "      <td>Silence of the Lambs, The (1991)</td>\n",
       "      <td>279</td>\n",
       "    </tr>\n",
       "    <tr>\n",
       "      <th>4</th>\n",
       "      <td>Matrix, The (1999)</td>\n",
       "      <td>278</td>\n",
       "    </tr>\n",
       "    <tr>\n",
       "      <th>...</th>\n",
       "      <td>...</td>\n",
       "      <td>...</td>\n",
       "    </tr>\n",
       "    <tr>\n",
       "      <th>1045</th>\n",
       "      <td>King Kong (1933)</td>\n",
       "      <td>25</td>\n",
       "    </tr>\n",
       "    <tr>\n",
       "      <th>1046</th>\n",
       "      <td>3:10 to Yuma (2007)</td>\n",
       "      <td>25</td>\n",
       "    </tr>\n",
       "    <tr>\n",
       "      <th>1047</th>\n",
       "      <td>Her (2013)</td>\n",
       "      <td>25</td>\n",
       "    </tr>\n",
       "    <tr>\n",
       "      <th>1048</th>\n",
       "      <td>Cape Fear (1991)</td>\n",
       "      <td>25</td>\n",
       "    </tr>\n",
       "    <tr>\n",
       "      <th>1049</th>\n",
       "      <td>Young Guns (1988)</td>\n",
       "      <td>25</td>\n",
       "    </tr>\n",
       "  </tbody>\n",
       "</table>\n",
       "<p>1050 rows × 2 columns</p>\n",
       "</div>"
      ],
      "text/plain": [
       "                                 title  Number of viewers\n",
       "0                  Forrest Gump (1994)                329\n",
       "1     Shawshank Redemption, The (1994)                317\n",
       "2                  Pulp Fiction (1994)                307\n",
       "3     Silence of the Lambs, The (1991)                279\n",
       "4                   Matrix, The (1999)                278\n",
       "...                                ...                ...\n",
       "1045                  King Kong (1933)                 25\n",
       "1046               3:10 to Yuma (2007)                 25\n",
       "1047                        Her (2013)                 25\n",
       "1048                  Cape Fear (1991)                 25\n",
       "1049                 Young Guns (1988)                 25\n",
       "\n",
       "[1050 rows x 2 columns]"
      ]
     },
     "execution_count": 272,
     "metadata": {},
     "output_type": "execute_result"
    }
   ],
   "source": [
    "highly_viewed_movies[highly_viewed_movies['Number of viewers'] >= 25]"
   ]
  },
  {
   "cell_type": "code",
   "execution_count": 273,
   "metadata": {},
   "outputs": [
    {
     "data": {
      "text/html": [
       "<div>\n",
       "<style scoped>\n",
       "    .dataframe tbody tr th:only-of-type {\n",
       "        vertical-align: middle;\n",
       "    }\n",
       "\n",
       "    .dataframe tbody tr th {\n",
       "        vertical-align: top;\n",
       "    }\n",
       "\n",
       "    .dataframe thead th {\n",
       "        text-align: right;\n",
       "    }\n",
       "</style>\n",
       "<table border=\"1\" class=\"dataframe\">\n",
       "  <thead>\n",
       "    <tr style=\"text-align: right;\">\n",
       "      <th></th>\n",
       "      <th>title</th>\n",
       "      <th>rating</th>\n",
       "      <th>Number of viewers</th>\n",
       "    </tr>\n",
       "  </thead>\n",
       "  <tbody>\n",
       "    <tr>\n",
       "      <th>722</th>\n",
       "      <td>Shawshank Redemption, The (1994)</td>\n",
       "      <td>4.429022</td>\n",
       "      <td>317</td>\n",
       "    </tr>\n",
       "    <tr>\n",
       "      <th>763</th>\n",
       "      <td>Sunset Blvd. (a.k.a. Sunset Boulevard) (1950)</td>\n",
       "      <td>4.333333</td>\n",
       "      <td>27</td>\n",
       "    </tr>\n",
       "    <tr>\n",
       "      <th>782</th>\n",
       "      <td>Philadelphia Story, The (1940)</td>\n",
       "      <td>4.310345</td>\n",
       "      <td>29</td>\n",
       "    </tr>\n",
       "    <tr>\n",
       "      <th>793</th>\n",
       "      <td>Lawrence of Arabia (1962)</td>\n",
       "      <td>4.300000</td>\n",
       "      <td>45</td>\n",
       "    </tr>\n",
       "    <tr>\n",
       "      <th>798</th>\n",
       "      <td>Hoop Dreams (1994)</td>\n",
       "      <td>4.293103</td>\n",
       "      <td>29</td>\n",
       "    </tr>\n",
       "    <tr>\n",
       "      <th>800</th>\n",
       "      <td>Godfather, The (1972)</td>\n",
       "      <td>4.289062</td>\n",
       "      <td>192</td>\n",
       "    </tr>\n",
       "    <tr>\n",
       "      <th>801</th>\n",
       "      <td>Harold and Maude (1971)</td>\n",
       "      <td>4.288462</td>\n",
       "      <td>26</td>\n",
       "    </tr>\n",
       "    <tr>\n",
       "      <th>808</th>\n",
       "      <td>Fight Club (1999)</td>\n",
       "      <td>4.272936</td>\n",
       "      <td>218</td>\n",
       "    </tr>\n",
       "    <tr>\n",
       "      <th>809</th>\n",
       "      <td>Cool Hand Luke (1967)</td>\n",
       "      <td>4.271930</td>\n",
       "      <td>57</td>\n",
       "    </tr>\n",
       "    <tr>\n",
       "      <th>810</th>\n",
       "      <td>Dr. Strangelove or: How I Learned to Stop Worrying and Love the Bomb (1964)</td>\n",
       "      <td>4.268041</td>\n",
       "      <td>97</td>\n",
       "    </tr>\n",
       "  </tbody>\n",
       "</table>\n",
       "</div>"
      ],
      "text/plain": [
       "                                                                           title  \\\n",
       "722                                             Shawshank Redemption, The (1994)   \n",
       "763                                Sunset Blvd. (a.k.a. Sunset Boulevard) (1950)   \n",
       "782                                               Philadelphia Story, The (1940)   \n",
       "793                                                    Lawrence of Arabia (1962)   \n",
       "798                                                           Hoop Dreams (1994)   \n",
       "800                                                        Godfather, The (1972)   \n",
       "801                                                      Harold and Maude (1971)   \n",
       "808                                                            Fight Club (1999)   \n",
       "809                                                        Cool Hand Luke (1967)   \n",
       "810  Dr. Strangelove or: How I Learned to Stop Worrying and Love the Bomb (1964)   \n",
       "\n",
       "       rating  Number of viewers  \n",
       "722  4.429022                317  \n",
       "763  4.333333                 27  \n",
       "782  4.310345                 29  \n",
       "793  4.300000                 45  \n",
       "798  4.293103                 29  \n",
       "800  4.289062                192  \n",
       "801  4.288462                 26  \n",
       "808  4.272936                218  \n",
       "809  4.271930                 57  \n",
       "810  4.268041                 97  "
      ]
     },
     "execution_count": 273,
     "metadata": {},
     "output_type": "execute_result"
    }
   ],
   "source": [
    "highly_rated_highly_veiwed_movies = pd.merge(movies_highly_rated_avg, highly_viewed_movies, how = 'inner', on='title')\n",
    "highly_rated_highly_veiwed_movies[highly_rated_highly_veiwed_movies['Number of viewers']>25].head(10)"
   ]
  },
  {
   "cell_type": "code",
   "execution_count": 274,
   "metadata": {},
   "outputs": [
    {
     "data": {
      "text/html": [
       "<div>\n",
       "<style scoped>\n",
       "    .dataframe tbody tr th:only-of-type {\n",
       "        vertical-align: middle;\n",
       "    }\n",
       "\n",
       "    .dataframe tbody tr th {\n",
       "        vertical-align: top;\n",
       "    }\n",
       "\n",
       "    .dataframe thead th {\n",
       "        text-align: right;\n",
       "    }\n",
       "</style>\n",
       "<table border=\"1\" class=\"dataframe\">\n",
       "  <thead>\n",
       "    <tr style=\"text-align: right;\">\n",
       "      <th></th>\n",
       "      <th>title</th>\n",
       "      <th>rating</th>\n",
       "      <th>Number of viewers</th>\n",
       "    </tr>\n",
       "  </thead>\n",
       "  <tbody>\n",
       "    <tr>\n",
       "      <th>722</th>\n",
       "      <td>Shawshank Redemption, The (1994)</td>\n",
       "      <td>4.429022</td>\n",
       "      <td>317</td>\n",
       "    </tr>\n",
       "    <tr>\n",
       "      <th>763</th>\n",
       "      <td>Sunset Blvd. (a.k.a. Sunset Boulevard) (1950)</td>\n",
       "      <td>4.333333</td>\n",
       "      <td>27</td>\n",
       "    </tr>\n",
       "    <tr>\n",
       "      <th>782</th>\n",
       "      <td>Philadelphia Story, The (1940)</td>\n",
       "      <td>4.310345</td>\n",
       "      <td>29</td>\n",
       "    </tr>\n",
       "    <tr>\n",
       "      <th>793</th>\n",
       "      <td>Lawrence of Arabia (1962)</td>\n",
       "      <td>4.300000</td>\n",
       "      <td>45</td>\n",
       "    </tr>\n",
       "    <tr>\n",
       "      <th>798</th>\n",
       "      <td>Hoop Dreams (1994)</td>\n",
       "      <td>4.293103</td>\n",
       "      <td>29</td>\n",
       "    </tr>\n",
       "    <tr>\n",
       "      <th>800</th>\n",
       "      <td>Godfather, The (1972)</td>\n",
       "      <td>4.289062</td>\n",
       "      <td>192</td>\n",
       "    </tr>\n",
       "    <tr>\n",
       "      <th>801</th>\n",
       "      <td>Harold and Maude (1971)</td>\n",
       "      <td>4.288462</td>\n",
       "      <td>26</td>\n",
       "    </tr>\n",
       "    <tr>\n",
       "      <th>808</th>\n",
       "      <td>Fight Club (1999)</td>\n",
       "      <td>4.272936</td>\n",
       "      <td>218</td>\n",
       "    </tr>\n",
       "    <tr>\n",
       "      <th>809</th>\n",
       "      <td>Cool Hand Luke (1967)</td>\n",
       "      <td>4.271930</td>\n",
       "      <td>57</td>\n",
       "    </tr>\n",
       "    <tr>\n",
       "      <th>810</th>\n",
       "      <td>Dr. Strangelove or: How I Learned to Stop Worrying and Love the Bomb (1964)</td>\n",
       "      <td>4.268041</td>\n",
       "      <td>97</td>\n",
       "    </tr>\n",
       "  </tbody>\n",
       "</table>\n",
       "</div>"
      ],
      "text/plain": [
       "                                                                           title  \\\n",
       "722                                             Shawshank Redemption, The (1994)   \n",
       "763                                Sunset Blvd. (a.k.a. Sunset Boulevard) (1950)   \n",
       "782                                               Philadelphia Story, The (1940)   \n",
       "793                                                    Lawrence of Arabia (1962)   \n",
       "798                                                           Hoop Dreams (1994)   \n",
       "800                                                        Godfather, The (1972)   \n",
       "801                                                      Harold and Maude (1971)   \n",
       "808                                                            Fight Club (1999)   \n",
       "809                                                        Cool Hand Luke (1967)   \n",
       "810  Dr. Strangelove or: How I Learned to Stop Worrying and Love the Bomb (1964)   \n",
       "\n",
       "       rating  Number of viewers  \n",
       "722  4.429022                317  \n",
       "763  4.333333                 27  \n",
       "782  4.310345                 29  \n",
       "793  4.300000                 45  \n",
       "798  4.293103                 29  \n",
       "800  4.289062                192  \n",
       "801  4.288462                 26  \n",
       "808  4.272936                218  \n",
       "809  4.271930                 57  \n",
       "810  4.268041                 97  "
      ]
     },
     "execution_count": 274,
     "metadata": {},
     "output_type": "execute_result"
    }
   ],
   "source": [
    "highly_rated_highly_veiwed_movies[(highly_rated_highly_veiwed_movies['Number of viewers']>25) & (highly_rated_highly_veiwed_movies['rating']>=4.0)].head(10)"
   ]
  },
  {
   "cell_type": "markdown",
   "metadata": {},
   "source": [
    "The top 10 films, as determined by how well-liked and popular they are among viewers. These received a rating of at least 4 from at least 25 viewers."
   ]
  },
  {
   "cell_type": "markdown",
   "metadata": {},
   "source": [
    "### <span style='color:rgb(205, 0, 153)'>4.3 | Distribution of Ratings in the Training Dataset </span><a class=\"anchor\" id=\"distTrain\"></a> \n",
    "[Back to Table of Contents](#edaanchor)\n",
    "<hr>"
   ]
  },
  {
   "cell_type": "code",
   "execution_count": 275,
   "metadata": {},
   "outputs": [
    {
     "name": "stdout",
     "output_type": "stream",
     "text": [
      "Let's have a look on the distribution of ratings in the training dataset :\n"
     ]
    },
    {
     "data": {
      "image/png": "[encoded data removed]",
      "text/plain": [
       "<Figure size 1152x648 with 1 Axes>"
      ]
     },
     "metadata": {},
     "output_type": "display_data"
    }
   ],
   "source": [
    "print(\"Let's have a look on the distribution of ratings in the training dataset :\")\n",
    "plt.subplots(figsize=(16, 9))\n",
    "cp=sns.countplot(x=train_df[\"rating\"],palette=palette, saturation=1, edgecolor = \"#1c1c1c\", linewidth = 3)\n",
    "#p=sns.countplot(x=train_df[\"rating_round\"],order=train_df[\"rating_round\"].value_counts().index[:11],palette=palette, saturation=1, edgecolor = \"#1c1c1c\", linewidth = 4)\n",
    "cp.axes.set_title(\"\\nDistribution of Ratings in the Whole Dataset\\n\",fontsize=20)\n",
    "cp.axes.set_xlabel(\"Ratings\",fontsize=18)\n",
    "cp.axes.set_ylabel(\"Rating Counts\",fontsize=18)\n",
    "cp.axes.set_xticklabels(cp.get_xticklabels(),rotation = 0)\n",
    "for container in cp.containers:\n",
    "    cp.bar_label(container,label_type=\"center\",padding=6,size=25,color=\"black\",rotation=0,\n",
    "    bbox={\"boxstyle\": \"round\", \"pad\": 0.4, \"facecolor\": \"orange\", \"edgecolor\": \"#1c1c1c\", \"linewidth\" : 4, \"alpha\": 1})\n",
    "\n",
    "\n",
    "sns.despine(left=True, bottom=True)\n",
    "plt.show()"
   ]
  },
  {
   "cell_type": "markdown",
   "metadata": {},
   "source": [
    "### <span style='color:rgb(205, 0, 153)'>4.4 | Distribution of Ratings in the Test Dataset </span><a class=\"anchor\" id=\"distTest\"></a> \n",
    "[Back to Table of Contents](#edaanchor)\n",
    "<hr>"
   ]
  },
  {
   "cell_type": "code",
   "execution_count": 276,
   "metadata": {},
   "outputs": [
    {
     "name": "stdout",
     "output_type": "stream",
     "text": [
      "Let's have a look on the distribution of ratings in the testing dataset :\n"
     ]
    },
    {
     "data": {
      "image/png": "[encoded data removed]",
      "text/plain": [
       "<Figure size 1152x648 with 1 Axes>"
      ]
     },
     "metadata": {},
     "output_type": "display_data"
    }
   ],
   "source": [
    "print(\"Let's have a look on the distribution of ratings in the testing dataset :\")\n",
    "plt.subplots(figsize=(16, 9))\n",
    "cp=sns.countplot(x=test_df[\"rating\"],palette=palette, saturation=1, edgecolor = \"#1c1c1c\", linewidth = 3)\n",
    "#p=sns.countplot(x=train_df[\"rating_round\"],order=train_df[\"rating_round\"].value_counts().index[:11],palette=palette, saturation=1, edgecolor = \"#1c1c1c\", linewidth = 4)\n",
    "cp.axes.set_title(\"\\nDistribution of Ratings in the Whole Dataset\\n\",fontsize=20)\n",
    "cp.axes.set_xlabel(\"Ratings\",fontsize=18)\n",
    "cp.axes.set_ylabel(\"Rating Counts\",fontsize=18)\n",
    "cp.axes.set_xticklabels(cp.get_xticklabels(),rotation = 0)\n",
    "for container in cp.containers:\n",
    "    cp.bar_label(container,label_type=\"center\",padding=6,size=25,color=\"black\",rotation=0,\n",
    "    bbox={\"boxstyle\": \"round\", \"pad\": 0.4, \"facecolor\": \"orange\", \"edgecolor\": \"#1c1c1c\", \"linewidth\" : 4, \"alpha\": 1})\n",
    "\n",
    "\n",
    "sns.despine(left=True, bottom=True)\n",
    "plt.show()"
   ]
  },
  {
   "cell_type": "markdown",
   "metadata": {},
   "source": [
    "## <span style='color:rgb(205, 0, 153)'>5 | Building the Recommendation System Models </span><a class=\"anchor\" id=\"modeling\"></a> \n",
    "[Back to Table of Contents](#modelanchor)\n",
    "<hr>\n",
    "\n",
    "A movie recommendation system, also known as a movie recommender system, is a machine learning-based method to predicting users' movie preferences based on their previous choices and behaviour."
   ]
  },
  {
   "cell_type": "markdown",
   "metadata": {},
   "source": [
    "## <span style='color:rgb(205, 0, 153)'>5.1 | Model 1 - Matrix factorization method using Neural Networks </span><a class=\"anchor\" id=\"model1\"></a> \n",
    "[Back to Table of Contents](#modelanchor)\n",
    "<hr>\n",
    "\n",
    "__Matrix factorization__ is a type of collaborative filtering algorithm that is commonly used in recommendation systems. It works by decomposing the user-item interaction matrix into the product of two lower dimensionality rectangular matrices.\n",
    "\n",
    "We have trained our model using matrix factorization, multi layer Perceptrons (MLP), and a neural network on the training dataset and assess the performance on the test dataset.\n",
    "\n",
    "The concatenated layers are obtained from the matrix factorization and neural network over the user and item layer embeddings. Then, this concatenated layer is followed by an output layer and a relu activation function."
   ]
  },
  {
   "cell_type": "markdown",
   "metadata": {},
   "source": [
    "### <span style='color:rgb(205, 0, 153)'>5.1.1 | Model 1 - Define model and show the model summary </span><a class=\"anchor\" id=\"m1\"></a>\n",
    "\n",
    "We have defined an embedding layer of dimension 40 each for users as well as movies. Following that, the embedding layers are flattened. For both user and movie, a dropout layer with a dropout factor of 0.2 is used. mean square error and mean absolute error are used as loss function and metrics. We have compiled our model using adam_optimizerwith learning_rate = 2e-3."
   ]
  },
  {
   "cell_type": "code",
   "execution_count": 277,
   "metadata": {},
   "outputs": [
    {
     "name": "stdout",
     "output_type": "stream",
     "text": [
      "The training dataset includes 80669 ratings by 610 unique users for 8954 unique movies\n"
     ]
    }
   ],
   "source": [
    "n_users, n_movies = len(train_df.userId.unique()), len(train_df.movieId.unique())\n",
    "print(\"The training dataset includes {} ratings by {} unique users for {} unique movies\".format(len(train_df),n_users,n_movies))"
   ]
  },
  {
   "cell_type": "code",
   "execution_count": 278,
   "metadata": {},
   "outputs": [],
   "source": [
    "from keras.layers import Input, Embedding, Flatten, Dense, Dropout,Concatenate, multiply, Dot\n",
    "#import tensorflow as tf\n",
    "#import keras"
   ]
  },
  {
   "cell_type": "code",
   "execution_count": 279,
   "metadata": {
    "execution": {
     "iopub.execute_input": "2022-12-14T18:42:59.907625Z",
     "iopub.status.busy": "2022-12-14T18:42:59.906583Z",
     "iopub.status.idle": "2022-12-14T18:42:59.979296Z",
     "shell.execute_reply": "2022-12-14T18:42:59.978165Z",
     "shell.execute_reply.started": "2022-12-14T18:42:59.907586Z"
    },
    "scrolled": true
   },
   "outputs": [],
   "source": [
    "n_factors = 40\n",
    "\n",
    "\n",
    "## Initializing a input layer for users\n",
    "user = Input(shape=[1],name='User')\n",
    "\n",
    "## Embedding layer for n_factors of users\n",
    "u_embedding = Embedding(n_users+1,n_factors ,name = 'User-Embedding')(user)\n",
    "u_vector = Flatten(name='user_flatten')(u_embedding)\n",
    "u_vector = Dropout(0.2)(u_vector)\n",
    "\n",
    "\n",
    "## Initializing a input layer for movies\n",
    "movie = Input(shape=[1],name = 'Movie')\n",
    "\n",
    "# movie_input = preprocessing.scale(movie_input)\n",
    "## Embedding layer for n_factors of movies\n",
    "m_embedding = Embedding(n_movies+1,n_factors ,name='Movie-Embedding')(movie)\n",
    "m_vector = Flatten(name='movie_flatten')(m_embedding)\n",
    "m_vector = Dropout(0.2)(m_vector)\n",
    "\n",
    "\n",
    "## stacking up both user and movie embeddings\n",
    "concat = concatenate([m_vector,u_vector])\n",
    "concat_dropout = Dropout(0.2)(concat)\n",
    "\n",
    "## Adding a Dense layer to the architecture\n",
    "dense = Dense(20,name='Fully-Connected1',activation='relu')(concat)\n",
    "\n",
    "outcome = Dense(1,activation='relu',name='Activation')(dense)"
   ]
  },
  {
   "cell_type": "code",
   "execution_count": 280,
   "metadata": {},
   "outputs": [
    {
     "name": "stdout",
     "output_type": "stream",
     "text": [
      "Model: \"model_5\"\n",
      "__________________________________________________________________________________________________\n",
      " Layer (type)                   Output Shape         Param #     Connected to                     \n",
      "==================================================================================================\n",
      " Movie (InputLayer)             [(None, 1)]          0           []                               \n",
      "                                                                                                  \n",
      " User (InputLayer)              [(None, 1)]          0           []                               \n",
      "                                                                                                  \n",
      " Movie-Embedding (Embedding)    (None, 1, 40)        358200      ['Movie[0][0]']                  \n",
      "                                                                                                  \n",
      " User-Embedding (Embedding)     (None, 1, 40)        24440       ['User[0][0]']                   \n",
      "                                                                                                  \n",
      " movie_flatten (Flatten)        (None, 40)           0           ['Movie-Embedding[0][0]']        \n",
      "                                                                                                  \n",
      " user_flatten (Flatten)         (None, 40)           0           ['User-Embedding[0][0]']         \n",
      "                                                                                                  \n",
      " dropout_16 (Dropout)           (None, 40)           0           ['movie_flatten[0][0]']          \n",
      "                                                                                                  \n",
      " dropout_15 (Dropout)           (None, 40)           0           ['user_flatten[0][0]']           \n",
      "                                                                                                  \n",
      " concatenate_5 (Concatenate)    (None, 80)           0           ['dropout_16[0][0]',             \n",
      "                                                                  'dropout_15[0][0]']             \n",
      "                                                                                                  \n",
      " Fully-Connected1 (Dense)       (None, 20)           1620        ['concatenate_5[0][0]']          \n",
      "                                                                                                  \n",
      " Activation (Dense)             (None, 1)            21          ['Fully-Connected1[0][0]']       \n",
      "                                                                                                  \n",
      "==================================================================================================\n",
      "Total params: 384,281\n",
      "Trainable params: 384,281\n",
      "Non-trainable params: 0\n",
      "__________________________________________________________________________________________________\n"
     ]
    }
   ],
   "source": [
    "model1 = Model([user,movie],outcome)\n",
    "\n",
    "#show model summary\n",
    "model1.summary()"
   ]
  },
  {
   "cell_type": "markdown",
   "metadata": {},
   "source": [
    "### <span style='color:rgb(205, 0, 153)'>5.1.2 | Model 1 - Compile the model using keras.optimizers.Adam </span><a class=\"anchor\" id=\"m512\"></a>"
   ]
  },
  {
   "cell_type": "code",
   "execution_count": 281,
   "metadata": {
    "execution": {
     "iopub.execute_input": "2022-12-14T18:43:23.037522Z",
     "iopub.status.busy": "2022-12-14T18:43:23.036777Z",
     "iopub.status.idle": "2022-12-14T18:43:23.446759Z",
     "shell.execute_reply": "2022-12-14T18:43:23.445595Z",
     "shell.execute_reply.started": "2022-12-14T18:43:23.037482Z"
    },
    "scrolled": true
   },
   "outputs": [],
   "source": [
    "#!pip install pydot\n",
    "#!pip install graphviz\n",
    "adam_optimizer = tf.keras.optimizers.Adam(learning_rate = 2e-3)\n",
    "\n",
    "## compile model\n",
    "model1.compile(\n",
    "    optimizer= adam_optimizer, \n",
    "    loss= ['mse'], \n",
    "    metrics=['mean_absolute_error']\n",
    ")"
   ]
  },
  {
   "cell_type": "markdown",
   "metadata": {},
   "source": [
    "### <span style='color:rgb(205, 0, 153)'>5.1.3 | Model 1 - Train the model </span><a class=\"anchor\" id=\"m513\"></a>\n",
    "[Back to Table of Contents](#modelanchor)"
   ]
  },
  {
   "cell_type": "code",
   "execution_count": 282,
   "metadata": {},
   "outputs": [
    {
     "name": "stdout",
     "output_type": "stream",
     "text": [
      "Epoch 1/10\n",
      "284/284 [==============================] - 7s 15ms/step - loss: 2.4034 - mean_absolute_error: 1.1259 - val_loss: 4.7421 - val_mean_absolute_error: 1.9512\n",
      "Epoch 2/10\n",
      "284/284 [==============================] - 4s 13ms/step - loss: 0.7932 - mean_absolute_error: 0.6894 - val_loss: 4.2926 - val_mean_absolute_error: 1.8456\n",
      "Epoch 3/10\n",
      "284/284 [==============================] - 4s 13ms/step - loss: 0.7517 - mean_absolute_error: 0.6698 - val_loss: 3.5518 - val_mean_absolute_error: 1.6555\n",
      "Epoch 4/10\n",
      "284/284 [==============================] - 4s 13ms/step - loss: 0.7246 - mean_absolute_error: 0.6556 - val_loss: 2.9304 - val_mean_absolute_error: 1.4832\n",
      "Epoch 5/10\n",
      "284/284 [==============================] - 4s 13ms/step - loss: 0.7063 - mean_absolute_error: 0.6450 - val_loss: 2.2437 - val_mean_absolute_error: 1.2707\n",
      "Epoch 6/10\n",
      "284/284 [==============================] - 4s 14ms/step - loss: 0.6882 - mean_absolute_error: 0.6351 - val_loss: 1.6715 - val_mean_absolute_error: 1.0698\n",
      "Epoch 7/10\n",
      "284/284 [==============================] - 4s 13ms/step - loss: 0.6764 - mean_absolute_error: 0.6279 - val_loss: 1.3596 - val_mean_absolute_error: 0.9487\n",
      "Epoch 8/10\n",
      "284/284 [==============================] - 4s 14ms/step - loss: 0.6672 - mean_absolute_error: 0.6231 - val_loss: 1.2541 - val_mean_absolute_error: 0.9069\n",
      "Epoch 9/10\n",
      "284/284 [==============================] - 4s 14ms/step - loss: 0.6564 - mean_absolute_error: 0.6165 - val_loss: 1.1108 - val_mean_absolute_error: 0.8472\n",
      "Epoch 10/10\n",
      "284/284 [==============================] - 5s 16ms/step - loss: 0.6459 - mean_absolute_error: 0.6111 - val_loss: 1.0486 - val_mean_absolute_error: 0.8193\n",
      "The model has successfully trained\n"
     ]
    }
   ],
   "source": [
    "## fit model\n",
    "training_history_m1 = model1.fit([\n",
    "    train_df['userId'],\n",
    "    train_df['movieId']],\n",
    "    train_df['rating'],\n",
    "    batch_size = 256,\n",
    "    #validation_data = ([test_df['userId'],test_df['movieId']],test_df['rating']),\n",
    "    validation_split = 0.1,\n",
    "    epochs = 10,\n",
    "    verbose = 1\n",
    ")\n",
    "print(\"The model has successfully trained\")"
   ]
  },
  {
   "cell_type": "code",
   "execution_count": 283,
   "metadata": {
    "execution": {
     "iopub.execute_input": "2022-12-14T15:33:27.579761Z",
     "iopub.status.busy": "2022-12-14T15:33:27.578659Z",
     "iopub.status.idle": "2022-12-14T15:33:27.594684Z",
     "shell.execute_reply": "2022-12-14T15:33:27.593431Z",
     "shell.execute_reply.started": "2022-12-14T15:33:27.579705Z"
    },
    "scrolled": true
   },
   "outputs": [
    {
     "data": {
      "text/html": [
       "<div>\n",
       "<style scoped>\n",
       "    .dataframe tbody tr th:only-of-type {\n",
       "        vertical-align: middle;\n",
       "    }\n",
       "\n",
       "    .dataframe tbody tr th {\n",
       "        vertical-align: top;\n",
       "    }\n",
       "\n",
       "    .dataframe thead th {\n",
       "        text-align: right;\n",
       "    }\n",
       "</style>\n",
       "<table border=\"1\" class=\"dataframe\">\n",
       "  <thead>\n",
       "    <tr style=\"text-align: right;\">\n",
       "      <th></th>\n",
       "      <th>loss</th>\n",
       "      <th>mean_absolute_error</th>\n",
       "      <th>val_loss</th>\n",
       "      <th>val_mean_absolute_error</th>\n",
       "    </tr>\n",
       "  </thead>\n",
       "  <tbody>\n",
       "    <tr>\n",
       "      <th>0</th>\n",
       "      <td>2.403375</td>\n",
       "      <td>1.125936</td>\n",
       "      <td>4.742062</td>\n",
       "      <td>1.951157</td>\n",
       "    </tr>\n",
       "    <tr>\n",
       "      <th>1</th>\n",
       "      <td>0.793218</td>\n",
       "      <td>0.689393</td>\n",
       "      <td>4.292586</td>\n",
       "      <td>1.845568</td>\n",
       "    </tr>\n",
       "    <tr>\n",
       "      <th>2</th>\n",
       "      <td>0.751707</td>\n",
       "      <td>0.669826</td>\n",
       "      <td>3.551814</td>\n",
       "      <td>1.655541</td>\n",
       "    </tr>\n",
       "    <tr>\n",
       "      <th>3</th>\n",
       "      <td>0.724618</td>\n",
       "      <td>0.655637</td>\n",
       "      <td>2.930379</td>\n",
       "      <td>1.483203</td>\n",
       "    </tr>\n",
       "    <tr>\n",
       "      <th>4</th>\n",
       "      <td>0.706323</td>\n",
       "      <td>0.645015</td>\n",
       "      <td>2.243701</td>\n",
       "      <td>1.270713</td>\n",
       "    </tr>\n",
       "    <tr>\n",
       "      <th>5</th>\n",
       "      <td>0.688244</td>\n",
       "      <td>0.635137</td>\n",
       "      <td>1.671534</td>\n",
       "      <td>1.069808</td>\n",
       "    </tr>\n",
       "    <tr>\n",
       "      <th>6</th>\n",
       "      <td>0.676390</td>\n",
       "      <td>0.627950</td>\n",
       "      <td>1.359601</td>\n",
       "      <td>0.948689</td>\n",
       "    </tr>\n",
       "    <tr>\n",
       "      <th>7</th>\n",
       "      <td>0.667156</td>\n",
       "      <td>0.623055</td>\n",
       "      <td>1.254143</td>\n",
       "      <td>0.906891</td>\n",
       "    </tr>\n",
       "    <tr>\n",
       "      <th>8</th>\n",
       "      <td>0.656370</td>\n",
       "      <td>0.616515</td>\n",
       "      <td>1.110810</td>\n",
       "      <td>0.847153</td>\n",
       "    </tr>\n",
       "    <tr>\n",
       "      <th>9</th>\n",
       "      <td>0.645858</td>\n",
       "      <td>0.611132</td>\n",
       "      <td>1.048608</td>\n",
       "      <td>0.819287</td>\n",
       "    </tr>\n",
       "  </tbody>\n",
       "</table>\n",
       "</div>"
      ],
      "text/plain": [
       "       loss  mean_absolute_error  val_loss  val_mean_absolute_error\n",
       "0  2.403375             1.125936  4.742062                 1.951157\n",
       "1  0.793218             0.689393  4.292586                 1.845568\n",
       "2  0.751707             0.669826  3.551814                 1.655541\n",
       "3  0.724618             0.655637  2.930379                 1.483203\n",
       "4  0.706323             0.645015  2.243701                 1.270713\n",
       "5  0.688244             0.635137  1.671534                 1.069808\n",
       "6  0.676390             0.627950  1.359601                 0.948689\n",
       "7  0.667156             0.623055  1.254143                 0.906891\n",
       "8  0.656370             0.616515  1.110810                 0.847153\n",
       "9  0.645858             0.611132  1.048608                 0.819287"
      ]
     },
     "execution_count": 283,
     "metadata": {},
     "output_type": "execute_result"
    }
   ],
   "source": [
    "pd.DataFrame(training_history_m1.history)"
   ]
  },
  {
   "cell_type": "markdown",
   "metadata": {},
   "source": [
    "### <span style='color:rgb(205, 0, 153)'>5.1.4 | Model 1 - Learning Curves </span><a class=\"anchor\" id=\"m513\"></a>\n",
    "[Back to Table of Contents](#modelanchor)"
   ]
  },
  {
   "cell_type": "code",
   "execution_count": 284,
   "metadata": {
    "execution": {
     "iopub.execute_input": "2022-12-14T18:44:53.167856Z",
     "iopub.status.busy": "2022-12-14T18:44:53.167359Z",
     "iopub.status.idle": "2022-12-14T18:44:53.450463Z",
     "shell.execute_reply": "2022-12-14T18:44:53.449442Z",
     "shell.execute_reply.started": "2022-12-14T18:44:53.167817Z"
    }
   },
   "outputs": [
    {
     "name": "stdout",
     "output_type": "stream",
     "text": [
      "Learning curves :\n"
     ]
    },
    {
     "data": {
      "text/plain": [
       "<matplotlib.legend.Legend at 0x1b51ee70ac0>"
      ]
     },
     "execution_count": 284,
     "metadata": {},
     "output_type": "execute_result"
    },
    {
     "data": {
      "image/png": "[encoded data removed]",
      "text/plain": [
       "<Figure size 576x360 with 1 Axes>"
      ]
     },
     "metadata": {},
     "output_type": "display_data"
    }
   ],
   "source": [
    "print(\"Learning curves :\")\n",
    "plt.subplots(figsize=(8, 5))\n",
    "\n",
    "plt.xlabel('Epoch Number')\n",
    "plt.ylabel('Mean Absolute Error')\n",
    "plt.plot(training_history_m1.history['mean_absolute_error'], label='training set')\n",
    "plt.plot(training_history_m1.history['val_mean_absolute_error'], label='validation set')\n",
    "plt.legend()"
   ]
  },
  {
   "cell_type": "markdown",
   "metadata": {},
   "source": [
    "### <span style='color:rgb(205, 0, 153)'>5.1.5 | Model 1 - Model evaluation on test data </span><a class=\"anchor\" id=\"m513\"></a>\n",
    "[Back to Table of Contents](#modelAnchor)"
   ]
  },
  {
   "cell_type": "code",
   "execution_count": 285,
   "metadata": {
    "execution": {
     "iopub.execute_input": "2022-12-14T18:45:24.900928Z",
     "iopub.status.busy": "2022-12-14T18:45:24.900429Z",
     "iopub.status.idle": "2022-12-14T18:45:25.556954Z",
     "shell.execute_reply": "2022-12-14T18:45:25.555630Z",
     "shell.execute_reply.started": "2022-12-14T18:45:24.900890Z"
    }
   },
   "outputs": [],
   "source": [
    "rmse1, mae1 = model1.evaluate(x=[test_df['userId'],test_df['movieId']],y=test_df['rating'],verbose=0)"
   ]
  },
  {
   "cell_type": "code",
   "execution_count": 286,
   "metadata": {},
   "outputs": [
    {
     "data": {
      "text/plain": [
       "(1.2422089576721191, 0.8723188638687134)"
      ]
     },
     "execution_count": 286,
     "metadata": {},
     "output_type": "execute_result"
    }
   ],
   "source": [
    "rmse1, mae1"
   ]
  },
  {
   "cell_type": "code",
   "execution_count": 287,
   "metadata": {},
   "outputs": [],
   "source": [
    "#trainingPerformance = pd.DataFrame(columns = ['S.No.','Method','Mean Absolute Error']) \n",
    "testingPerformance = pd.DataFrame(columns = ['S.No.','Model', 'Method','Mean Absolute Error'])"
   ]
  },
  {
   "cell_type": "code",
   "execution_count": 288,
   "metadata": {},
   "outputs": [
    {
     "data": {
      "text/html": [
       "<div>\n",
       "<style scoped>\n",
       "    .dataframe tbody tr th:only-of-type {\n",
       "        vertical-align: middle;\n",
       "    }\n",
       "\n",
       "    .dataframe tbody tr th {\n",
       "        vertical-align: top;\n",
       "    }\n",
       "\n",
       "    .dataframe thead th {\n",
       "        text-align: right;\n",
       "    }\n",
       "</style>\n",
       "<table border=\"1\" class=\"dataframe\">\n",
       "  <thead>\n",
       "    <tr style=\"text-align: right;\">\n",
       "      <th></th>\n",
       "      <th>S.No.</th>\n",
       "      <th>Model</th>\n",
       "      <th>Method</th>\n",
       "      <th>Mean Absolute Error</th>\n",
       "    </tr>\n",
       "  </thead>\n",
       "  <tbody>\n",
       "    <tr>\n",
       "      <th>0</th>\n",
       "      <td>1</td>\n",
       "      <td>Model 1</td>\n",
       "      <td>Matrix factorization method using Neural Networks</td>\n",
       "      <td>0.872319</td>\n",
       "    </tr>\n",
       "  </tbody>\n",
       "</table>\n",
       "</div>"
      ],
      "text/plain": [
       "  S.No.    Model                                             Method  \\\n",
       "0     1  Model 1  Matrix factorization method using Neural Networks   \n",
       "\n",
       "  Mean Absolute Error  \n",
       "0            0.872319  "
      ]
     },
     "execution_count": 288,
     "metadata": {},
     "output_type": "execute_result"
    }
   ],
   "source": [
    "testingPerformance = testingPerformance.append({'S.No.' : 1, 'Model':'Model 1', 'Method' : 'Matrix factorization method using Neural Networks', 'Mean Absolute Error' : mae1}, ignore_index = True) \n",
    "testingPerformance"
   ]
  },
  {
   "cell_type": "markdown",
   "metadata": {},
   "source": [
    "## <span style='color:rgb(205, 0, 153)'>5.2 | Model 2 - Tabular Data Method using Neural Network </span><a class=\"anchor\" id=\"model2\"></a> \n",
    "[Back to Table of Contents](#modelanchor)\n",
    "<hr>"
   ]
  },
  {
   "cell_type": "markdown",
   "metadata": {},
   "source": [
    "### <span style='color:rgb(205, 0, 153)'>5.2.1 | Model 2 - Define model and show the model summary </span><a class=\"anchor\" id=\"m511\"></a>\n",
    "\n",
    "In the second model, We have used Tabular data method using Neural Network to predict the ratings. The model includes an embedding layer of 50 dimensions for both users and movies. Following that, the embedding layers are flattened. For both user and movie, a dropout layer with a dropout factor of 0.2 is used. mean square error and mean absolute error are used as loss function and metrics. We have compiled our model using adam_optimizerwith learning_rate = 2e-3."
   ]
  },
  {
   "cell_type": "code",
   "execution_count": 289,
   "metadata": {},
   "outputs": [
    {
     "name": "stdout",
     "output_type": "stream",
     "text": [
      "The training dataset includes 80669 ratings by 610 unique users for 8954 unique movies\n"
     ]
    }
   ],
   "source": [
    "n_users = len(train_df.userId.unique())\n",
    "n_movies = len(train_df.movieId.unique())\n",
    "print(\"The training dataset includes {} ratings by {} unique users for {} unique movies\".format(len(train_df),n_users,n_movies))"
   ]
  },
  {
   "cell_type": "code",
   "execution_count": 290,
   "metadata": {
    "execution": {
     "iopub.execute_input": "2022-12-14T18:45:37.382648Z",
     "iopub.status.busy": "2022-12-14T18:45:37.382260Z",
     "iopub.status.idle": "2022-12-14T18:45:37.449294Z",
     "shell.execute_reply": "2022-12-14T18:45:37.448006Z",
     "shell.execute_reply.started": "2022-12-14T18:45:37.382616Z"
    },
    "scrolled": true
   },
   "outputs": [],
   "source": [
    "n_factors = 50\n",
    "\n",
    "\n",
    "## Initializing a input layer for users\n",
    "user = Input(shape=[1],name = 'User')\n",
    "\n",
    "## Embedding layer for n_factors of users\n",
    "u_embedding = Embedding(n_users+1,n_factors,name='User-Embedding')(user)\n",
    "u_vector = Flatten(name='User-Flatten')(u_embedding)\n",
    "u_vector = Dropout(0.2)(u_vector)\n",
    "\n",
    "## Initializing a input layer for movies\n",
    "movie = Input(shape=[1],name='Movie')\n",
    "\n",
    "## Embedding layer for n_factors of movies\n",
    "m_embedding = Embedding(n_movies+1,n_factors,name='Movie-Embedding')(movie)\n",
    "m_vector = Flatten(name='Movie-Flatten')(m_embedding)\n",
    "m_vector = Dropout(0.2)(m_vector)\n",
    "\n",
    "\n",
    "\n",
    "#concatenate flattened values\n",
    "concat = concatenate([m_vector,u_vector])\n",
    "concat_dropout = Dropout(0.2)(concat)\n",
    "\n",
    "## Adding a Dense layer to the architecture\n",
    "dense_1 = Dense(20,name='Fully-Connected1',activation ='relu')(concat)\n",
    "\n",
    "\n",
    "outcome = Dense(1,activation='relu',name='Activation')(dense_1)"
   ]
  },
  {
   "cell_type": "code",
   "execution_count": 291,
   "metadata": {},
   "outputs": [
    {
     "name": "stdout",
     "output_type": "stream",
     "text": [
      "Model: \"model_6\"\n",
      "__________________________________________________________________________________________________\n",
      " Layer (type)                   Output Shape         Param #     Connected to                     \n",
      "==================================================================================================\n",
      " Movie (InputLayer)             [(None, 1)]          0           []                               \n",
      "                                                                                                  \n",
      " User (InputLayer)              [(None, 1)]          0           []                               \n",
      "                                                                                                  \n",
      " Movie-Embedding (Embedding)    (None, 1, 50)        447750      ['Movie[0][0]']                  \n",
      "                                                                                                  \n",
      " User-Embedding (Embedding)     (None, 1, 50)        30550       ['User[0][0]']                   \n",
      "                                                                                                  \n",
      " Movie-Flatten (Flatten)        (None, 50)           0           ['Movie-Embedding[0][0]']        \n",
      "                                                                                                  \n",
      " User-Flatten (Flatten)         (None, 50)           0           ['User-Embedding[0][0]']         \n",
      "                                                                                                  \n",
      " dropout_19 (Dropout)           (None, 50)           0           ['Movie-Flatten[0][0]']          \n",
      "                                                                                                  \n",
      " dropout_18 (Dropout)           (None, 50)           0           ['User-Flatten[0][0]']           \n",
      "                                                                                                  \n",
      " concatenate_6 (Concatenate)    (None, 100)          0           ['dropout_19[0][0]',             \n",
      "                                                                  'dropout_18[0][0]']             \n",
      "                                                                                                  \n",
      " Fully-Connected1 (Dense)       (None, 20)           2020        ['concatenate_6[0][0]']          \n",
      "                                                                                                  \n",
      " Activation (Dense)             (None, 1)            21          ['Fully-Connected1[0][0]']       \n",
      "                                                                                                  \n",
      "==================================================================================================\n",
      "Total params: 480,341\n",
      "Trainable params: 480,341\n",
      "Non-trainable params: 0\n",
      "__________________________________________________________________________________________________\n"
     ]
    }
   ],
   "source": [
    "model2 = Model([user,movie],outcome)\n",
    "model2.summary()"
   ]
  },
  {
   "cell_type": "markdown",
   "metadata": {},
   "source": [
    "### <span style='color:rgb(205, 0, 153)'>5.2.2 | Model 2 - Compile the model using keras.optimizers.Adam </span><a class=\"anchor\" id=\"m522\"></a>\n",
    "[Back to Table of Contents](#modelanchor)"
   ]
  },
  {
   "cell_type": "code",
   "execution_count": 292,
   "metadata": {
    "execution": {
     "iopub.execute_input": "2022-12-14T18:45:46.910515Z",
     "iopub.status.busy": "2022-12-14T18:45:46.910085Z",
     "iopub.status.idle": "2022-12-14T18:45:46.922646Z",
     "shell.execute_reply": "2022-12-14T18:45:46.921589Z",
     "shell.execute_reply.started": "2022-12-14T18:45:46.910482Z"
    }
   },
   "outputs": [],
   "source": [
    "adam_optimizer = tf.keras.optimizers.Adam(learning_rate = 2e-3)\n",
    "\n",
    "## compile model\n",
    "model2.compile(\n",
    "    optimizer= adam_optimizer, \n",
    "    loss= ['mse'], \n",
    "    metrics=['mean_absolute_error']\n",
    ")"
   ]
  },
  {
   "cell_type": "markdown",
   "metadata": {},
   "source": [
    "### <span style='color:rgb(205, 0, 153)'>5.2.3 | Model 2 - Train the model </span><a class=\"anchor\" id=\"m523\"></a>\n",
    "[Back to Table of Contents](#modelanchor)"
   ]
  },
  {
   "cell_type": "code",
   "execution_count": 293,
   "metadata": {
    "execution": {
     "iopub.execute_input": "2022-12-14T18:45:52.034160Z",
     "iopub.status.busy": "2022-12-14T18:45:52.032939Z",
     "iopub.status.idle": "2022-12-14T18:46:00.019252Z",
     "shell.execute_reply": "2022-12-14T18:46:00.018030Z",
     "shell.execute_reply.started": "2022-12-14T18:45:52.034110Z"
    }
   },
   "outputs": [
    {
     "name": "stdout",
     "output_type": "stream",
     "text": [
      "Epoch 1/10\n",
      "312/312 [==============================] - 8s 18ms/step - loss: 2.3023 - mean_absolute_error: 1.0965 - val_loss: 0.5833 - val_mean_absolute_error: 0.5914\n",
      "Epoch 2/10\n",
      "312/312 [==============================] - 5s 16ms/step - loss: 0.7809 - mean_absolute_error: 0.6832 - val_loss: 0.5615 - val_mean_absolute_error: 0.5829\n",
      "Epoch 3/10\n",
      "312/312 [==============================] - 5s 16ms/step - loss: 0.7412 - mean_absolute_error: 0.6637 - val_loss: 0.5756 - val_mean_absolute_error: 0.5863\n",
      "Epoch 4/10\n",
      "312/312 [==============================] - 5s 15ms/step - loss: 0.7211 - mean_absolute_error: 0.6520 - val_loss: 0.6118 - val_mean_absolute_error: 0.6060\n",
      "Epoch 5/10\n",
      "312/312 [==============================] - 5s 16ms/step - loss: 0.6991 - mean_absolute_error: 0.6408 - val_loss: 0.5817 - val_mean_absolute_error: 0.5918\n",
      "Epoch 6/10\n",
      "312/312 [==============================] - 5s 17ms/step - loss: 0.6837 - mean_absolute_error: 0.6319 - val_loss: 0.5749 - val_mean_absolute_error: 0.5900\n",
      "Epoch 7/10\n",
      "312/312 [==============================] - 5s 17ms/step - loss: 0.6674 - mean_absolute_error: 0.6226 - val_loss: 0.6059 - val_mean_absolute_error: 0.6021\n",
      "Epoch 8/10\n",
      "312/312 [==============================] - 5s 17ms/step - loss: 0.6532 - mean_absolute_error: 0.6150 - val_loss: 0.6119 - val_mean_absolute_error: 0.6059\n",
      "Epoch 9/10\n",
      "312/312 [==============================] - 5s 17ms/step - loss: 0.6433 - mean_absolute_error: 0.6092 - val_loss: 0.6342 - val_mean_absolute_error: 0.6203\n",
      "Epoch 10/10\n",
      "312/312 [==============================] - 5s 17ms/step - loss: 0.6314 - mean_absolute_error: 0.6031 - val_loss: 0.6127 - val_mean_absolute_error: 0.6018\n"
     ]
    }
   ],
   "source": [
    "training_history_m2 = model2.fit([train_df['userId'], \n",
    "                                  train_df['movieId']],\n",
    "                                  train_df['rating'],\n",
    "                                  batch_size = 256,\n",
    "                                  validation_split = 0.01,\n",
    "                                  epochs = 10,\n",
    "                                  verbose = 1)"
   ]
  },
  {
   "cell_type": "code",
   "execution_count": 296,
   "metadata": {
    "execution": {
     "iopub.execute_input": "2022-12-14T18:46:06.388259Z",
     "iopub.status.busy": "2022-12-14T18:46:06.387816Z",
     "iopub.status.idle": "2022-12-14T18:46:06.402127Z",
     "shell.execute_reply": "2022-12-14T18:46:06.401086Z",
     "shell.execute_reply.started": "2022-12-14T18:46:06.388221Z"
    }
   },
   "outputs": [
    {
     "data": {
      "text/html": [
       "<div>\n",
       "<style scoped>\n",
       "    .dataframe tbody tr th:only-of-type {\n",
       "        vertical-align: middle;\n",
       "    }\n",
       "\n",
       "    .dataframe tbody tr th {\n",
       "        vertical-align: top;\n",
       "    }\n",
       "\n",
       "    .dataframe thead th {\n",
       "        text-align: right;\n",
       "    }\n",
       "</style>\n",
       "<table border=\"1\" class=\"dataframe\">\n",
       "  <thead>\n",
       "    <tr style=\"text-align: right;\">\n",
       "      <th></th>\n",
       "      <th>loss</th>\n",
       "      <th>mean_absolute_error</th>\n",
       "      <th>val_loss</th>\n",
       "      <th>val_mean_absolute_error</th>\n",
       "    </tr>\n",
       "  </thead>\n",
       "  <tbody>\n",
       "    <tr>\n",
       "      <th>0</th>\n",
       "      <td>2.302268</td>\n",
       "      <td>1.096508</td>\n",
       "      <td>0.583317</td>\n",
       "      <td>0.591352</td>\n",
       "    </tr>\n",
       "    <tr>\n",
       "      <th>1</th>\n",
       "      <td>0.780942</td>\n",
       "      <td>0.683190</td>\n",
       "      <td>0.561472</td>\n",
       "      <td>0.582881</td>\n",
       "    </tr>\n",
       "    <tr>\n",
       "      <th>2</th>\n",
       "      <td>0.741238</td>\n",
       "      <td>0.663730</td>\n",
       "      <td>0.575561</td>\n",
       "      <td>0.586276</td>\n",
       "    </tr>\n",
       "    <tr>\n",
       "      <th>3</th>\n",
       "      <td>0.721099</td>\n",
       "      <td>0.652017</td>\n",
       "      <td>0.611788</td>\n",
       "      <td>0.605999</td>\n",
       "    </tr>\n",
       "    <tr>\n",
       "      <th>4</th>\n",
       "      <td>0.699119</td>\n",
       "      <td>0.640792</td>\n",
       "      <td>0.581667</td>\n",
       "      <td>0.591768</td>\n",
       "    </tr>\n",
       "    <tr>\n",
       "      <th>5</th>\n",
       "      <td>0.683712</td>\n",
       "      <td>0.631928</td>\n",
       "      <td>0.574888</td>\n",
       "      <td>0.589994</td>\n",
       "    </tr>\n",
       "    <tr>\n",
       "      <th>6</th>\n",
       "      <td>0.667373</td>\n",
       "      <td>0.622603</td>\n",
       "      <td>0.605879</td>\n",
       "      <td>0.602095</td>\n",
       "    </tr>\n",
       "    <tr>\n",
       "      <th>7</th>\n",
       "      <td>0.653237</td>\n",
       "      <td>0.615025</td>\n",
       "      <td>0.611926</td>\n",
       "      <td>0.605923</td>\n",
       "    </tr>\n",
       "    <tr>\n",
       "      <th>8</th>\n",
       "      <td>0.643312</td>\n",
       "      <td>0.609157</td>\n",
       "      <td>0.634208</td>\n",
       "      <td>0.620289</td>\n",
       "    </tr>\n",
       "    <tr>\n",
       "      <th>9</th>\n",
       "      <td>0.631449</td>\n",
       "      <td>0.603148</td>\n",
       "      <td>0.612716</td>\n",
       "      <td>0.601793</td>\n",
       "    </tr>\n",
       "  </tbody>\n",
       "</table>\n",
       "</div>"
      ],
      "text/plain": [
       "       loss  mean_absolute_error  val_loss  val_mean_absolute_error\n",
       "0  2.302268             1.096508  0.583317                 0.591352\n",
       "1  0.780942             0.683190  0.561472                 0.582881\n",
       "2  0.741238             0.663730  0.575561                 0.586276\n",
       "3  0.721099             0.652017  0.611788                 0.605999\n",
       "4  0.699119             0.640792  0.581667                 0.591768\n",
       "5  0.683712             0.631928  0.574888                 0.589994\n",
       "6  0.667373             0.622603  0.605879                 0.602095\n",
       "7  0.653237             0.615025  0.611926                 0.605923\n",
       "8  0.643312             0.609157  0.634208                 0.620289\n",
       "9  0.631449             0.603148  0.612716                 0.601793"
      ]
     },
     "execution_count": 296,
     "metadata": {},
     "output_type": "execute_result"
    }
   ],
   "source": [
    "pd.DataFrame(training_history_m2.history)"
   ]
  },
  {
   "cell_type": "markdown",
   "metadata": {},
   "source": [
    "### <span style='color:rgb(205, 0, 153)'>5.2.4 | Model 2 - Learning Curves </span><a class=\"anchor\" id=\"m513\"></a>\n",
    "[Back to Table of Contents](#modelanchor)"
   ]
  },
  {
   "cell_type": "code",
   "execution_count": 297,
   "metadata": {},
   "outputs": [
    {
     "data": {
      "text/plain": [
       "<matplotlib.legend.Legend at 0x1b51f78a760>"
      ]
     },
     "execution_count": 297,
     "metadata": {},
     "output_type": "execute_result"
    },
    {
     "data": {
      "image/png": "[encoded data removed]",
      "text/plain": [
       "<Figure size 432x288 with 1 Axes>"
      ]
     },
     "metadata": {},
     "output_type": "display_data"
    }
   ],
   "source": [
    "plt.xlabel('Epoch Number')\n",
    "plt.ylabel('Mean Absolute Error')\n",
    "plt.plot(training_history_m2.history['mean_absolute_error'], label='training set')\n",
    "plt.plot(training_history_m2.history['val_mean_absolute_error'], label='validation set')\n",
    "plt.legend()"
   ]
  },
  {
   "cell_type": "markdown",
   "metadata": {},
   "source": [
    "### <span style='color:rgb(205, 0, 153)'>5.2.5 | Model 2 - Model evaluation on test data </span><a class=\"anchor\" id=\"m525\"></a>\n",
    "[Back to Table of Contents](#modelAnchor)"
   ]
  },
  {
   "cell_type": "code",
   "execution_count": 298,
   "metadata": {
    "execution": {
     "iopub.execute_input": "2022-12-14T18:46:14.547606Z",
     "iopub.status.busy": "2022-12-14T18:46:14.547195Z",
     "iopub.status.idle": "2022-12-14T18:46:15.230996Z",
     "shell.execute_reply": "2022-12-14T18:46:15.229798Z",
     "shell.execute_reply.started": "2022-12-14T18:46:14.547573Z"
    }
   },
   "outputs": [],
   "source": [
    "rmse2, mae2 = model2.evaluate(x=[test_df['userId'],test_df['movieId']],y=test_df['rating'],verbose=0)"
   ]
  },
  {
   "cell_type": "code",
   "execution_count": 299,
   "metadata": {},
   "outputs": [
    {
     "data": {
      "text/plain": [
       "(1.2521671056747437, 0.8707090020179749)"
      ]
     },
     "execution_count": 299,
     "metadata": {},
     "output_type": "execute_result"
    }
   ],
   "source": [
    "rmse2,mae2"
   ]
  },
  {
   "cell_type": "code",
   "execution_count": 300,
   "metadata": {},
   "outputs": [
    {
     "data": {
      "text/html": [
       "<div>\n",
       "<style scoped>\n",
       "    .dataframe tbody tr th:only-of-type {\n",
       "        vertical-align: middle;\n",
       "    }\n",
       "\n",
       "    .dataframe tbody tr th {\n",
       "        vertical-align: top;\n",
       "    }\n",
       "\n",
       "    .dataframe thead th {\n",
       "        text-align: right;\n",
       "    }\n",
       "</style>\n",
       "<table border=\"1\" class=\"dataframe\">\n",
       "  <thead>\n",
       "    <tr style=\"text-align: right;\">\n",
       "      <th></th>\n",
       "      <th>S.No.</th>\n",
       "      <th>Model</th>\n",
       "      <th>Method</th>\n",
       "      <th>Mean Absolute Error</th>\n",
       "    </tr>\n",
       "  </thead>\n",
       "  <tbody>\n",
       "    <tr>\n",
       "      <th>0</th>\n",
       "      <td>1</td>\n",
       "      <td>Model 1</td>\n",
       "      <td>Matrix factorization method using Neural Networks</td>\n",
       "      <td>0.872319</td>\n",
       "    </tr>\n",
       "    <tr>\n",
       "      <th>1</th>\n",
       "      <td>2</td>\n",
       "      <td>Model 2</td>\n",
       "      <td>Tabular Data Method using Neural Network</td>\n",
       "      <td>0.870709</td>\n",
       "    </tr>\n",
       "  </tbody>\n",
       "</table>\n",
       "</div>"
      ],
      "text/plain": [
       "  S.No.    Model                                             Method  \\\n",
       "0     1  Model 1  Matrix factorization method using Neural Networks   \n",
       "1     2  Model 2           Tabular Data Method using Neural Network   \n",
       "\n",
       "  Mean Absolute Error  \n",
       "0            0.872319  \n",
       "1            0.870709  "
      ]
     },
     "execution_count": 300,
     "metadata": {},
     "output_type": "execute_result"
    }
   ],
   "source": [
    "testingPerformance = testingPerformance.append({'S.No.' : 2, 'Model':'Model 2', 'Method' : 'Tabular Data Method using Neural Network', 'Mean Absolute Error' : mae2}, ignore_index = True) \n",
    "testingPerformance"
   ]
  },
  {
   "cell_type": "markdown",
   "metadata": {},
   "source": [
    "## <span style='color:rgb(205, 0, 153)'>5.3 | Model 3 - Collaborative Filtering Model using fast.ai </span><a class=\"anchor\" id=\"model3\"></a> \n",
    "[Back to Table of Contents](#modelanchor)\n",
    "<hr>\n",
    "\n",
    "__Collaborative filtering Recommendation system__ is a method of making predictions about the interests of a user by collecting preferences from many users. The underlying assumption is that if a person A has the same opinion as a person B on an issue, A is more likely to have B's opinion on a different issue than that of a randomly chosen person. - [Wikipedia]"
   ]
  },
  {
   "cell_type": "markdown",
   "metadata": {},
   "source": [
    "### <span style='color:rgb(205, 0, 153)'>5.3.1 | Model 3 - Define the model </span><a class=\"anchor\" id=\"m531\"></a>\n",
    "\n",
    "We are representing each userId user and each movieId m by vector of a predefined length n. The rating for the movie m by the user u, as predicted by the model is simply the dot product of the two vectors."
   ]
  },
  {
   "cell_type": "code",
   "execution_count": 301,
   "metadata": {
    "execution": {
     "iopub.execute_input": "2022-12-14T15:55:36.665060Z",
     "iopub.status.busy": "2022-12-14T15:55:36.664580Z",
     "iopub.status.idle": "2022-12-14T15:55:36.671006Z",
     "shell.execute_reply": "2022-12-14T15:55:36.669883Z",
     "shell.execute_reply.started": "2022-12-14T15:55:36.665017Z"
    }
   },
   "outputs": [],
   "source": [
    "# %%script false \n",
    "#sys.path.append('../fastai')\n",
    "## import fast.ai modules\n",
    "from fastai import *\n",
    "from fastai.collab import *\n",
    "from fastai.tabular import *\n",
    "#from fastai.collab import CollabDataLoaders, collab_learner\n",
    "\n",
    "## define user/item column names in the training data\n",
    "user, item = 'userId','movieId'\n",
    "data = CollabDataLoaders.from_df(train_df, seed=42 )\n",
    "y_range = [0, 5.5]\n",
    "model3_learn = collab_learner(data, n_factors = 10, y_range = y_range)"
   ]
  },
  {
   "cell_type": "markdown",
   "metadata": {},
   "source": [
    "### <span style='color:rgb(205, 0, 153)'>5.3.2 | Model 3 - Find the best learning rate </span><a class=\"anchor\" id=\"m532\"></a>\n",
    "\n",
    "We utilise the learning rate finder using lr_find() function to choose a best rate for the optimizer before we train the model.\n"
   ]
  },
  {
   "cell_type": "code",
   "execution_count": 302,
   "metadata": {
    "execution": {
     "iopub.execute_input": "2022-12-14T15:55:47.229781Z",
     "iopub.status.busy": "2022-12-14T15:55:47.229253Z",
     "iopub.status.idle": "2022-12-14T15:55:47.235607Z",
     "shell.execute_reply": "2022-12-14T15:55:47.234285Z",
     "shell.execute_reply.started": "2022-12-14T15:55:47.229738Z"
    }
   },
   "outputs": [
    {
     "data": {
      "text/html": [
       "\n",
       "<style>\n",
       "    /* Turns off some styling */\n",
       "    progress {\n",
       "        /* gets rid of default border in Firefox and Opera. */\n",
       "        border: none;\n",
       "        /* Needs to be in here for Safari polyfill so background images work as expected. */\n",
       "        background-size: auto;\n",
       "    }\n",
       "    progress:not([value]), progress:not([value])::-webkit-progress-bar {\n",
       "        background: repeating-linear-gradient(45deg, #7e7e7e, #7e7e7e 10px, #5c5c5c 10px, #5c5c5c 20px);\n",
       "    }\n",
       "    .progress-bar-interrupted, .progress-bar-interrupted::-webkit-progress-bar {\n",
       "        background: #F44336;\n",
       "    }\n",
       "</style>\n"
      ],
      "text/plain": [
       "<IPython.core.display.HTML object>"
      ]
     },
     "metadata": {},
     "output_type": "display_data"
    },
    {
     "data": {
      "text/html": [],
      "text/plain": [
       "<IPython.core.display.HTML object>"
      ]
     },
     "metadata": {},
     "output_type": "display_data"
    },
    {
     "data": {
      "text/plain": [
       "SuggestedLRs(valley=0.03981071710586548)"
      ]
     },
     "execution_count": 302,
     "metadata": {},
     "output_type": "execute_result"
    },
    {
     "data": {
      "image/png": "[encoded data removed]",
      "text/plain": [
       "<Figure size 432x288 with 1 Axes>"
      ]
     },
     "metadata": {},
     "output_type": "display_data"
    }
   ],
   "source": [
    "model3_learn.lr_find()\n",
    "#learn.recorder.plot()"
   ]
  },
  {
   "cell_type": "markdown",
   "metadata": {},
   "source": [
    "By looking at the graph, we can observe that the best learning rate suggested  is approximately 0.06. Y - axis depicts the learning loss while X-axis depicts the learning rate. Red dot shows the minimum gradient of the learning curve. Here, we train for 5 epochs."
   ]
  },
  {
   "cell_type": "markdown",
   "metadata": {},
   "source": [
    "### <span style='color:rgb(205, 0, 153)'>5.3.3 | Model 3 - Train the model </span><a class=\"anchor\" id=\"m533\"></a>\n",
    "[Back to Table of Contents](#modelanchor)"
   ]
  },
  {
   "cell_type": "code",
   "execution_count": 304,
   "metadata": {
    "execution": {
     "iopub.execute_input": "2022-12-14T15:55:51.010013Z",
     "iopub.status.busy": "2022-12-14T15:55:51.009439Z",
     "iopub.status.idle": "2022-12-14T15:55:51.015725Z",
     "shell.execute_reply": "2022-12-14T15:55:51.014647Z",
     "shell.execute_reply.started": "2022-12-14T15:55:51.009964Z"
    }
   },
   "outputs": [
    {
     "data": {
      "text/html": [
       "\n",
       "<style>\n",
       "    /* Turns off some styling */\n",
       "    progress {\n",
       "        /* gets rid of default border in Firefox and Opera. */\n",
       "        border: none;\n",
       "        /* Needs to be in here for Safari polyfill so background images work as expected. */\n",
       "        background-size: auto;\n",
       "    }\n",
       "    progress:not([value]), progress:not([value])::-webkit-progress-bar {\n",
       "        background: repeating-linear-gradient(45deg, #7e7e7e, #7e7e7e 10px, #5c5c5c 10px, #5c5c5c 20px);\n",
       "    }\n",
       "    .progress-bar-interrupted, .progress-bar-interrupted::-webkit-progress-bar {\n",
       "        background: #F44336;\n",
       "    }\n",
       "</style>\n"
      ],
      "text/plain": [
       "<IPython.core.display.HTML object>"
      ]
     },
     "metadata": {},
     "output_type": "display_data"
    },
    {
     "data": {
      "text/html": [
       "<table border=\"1\" class=\"dataframe\">\n",
       "  <thead>\n",
       "    <tr style=\"text-align: left;\">\n",
       "      <th>epoch</th>\n",
       "      <th>train_loss</th>\n",
       "      <th>valid_loss</th>\n",
       "      <th>time</th>\n",
       "    </tr>\n",
       "  </thead>\n",
       "  <tbody>\n",
       "    <tr>\n",
       "      <td>0</td>\n",
       "      <td>0.583487</td>\n",
       "      <td>0.759095</td>\n",
       "      <td>00:19</td>\n",
       "    </tr>\n",
       "    <tr>\n",
       "      <td>1</td>\n",
       "      <td>0.646768</td>\n",
       "      <td>0.758720</td>\n",
       "      <td>00:22</td>\n",
       "    </tr>\n",
       "    <tr>\n",
       "      <td>2</td>\n",
       "      <td>0.613000</td>\n",
       "      <td>0.743136</td>\n",
       "      <td>00:23</td>\n",
       "    </tr>\n",
       "    <tr>\n",
       "      <td>3</td>\n",
       "      <td>0.503939</td>\n",
       "      <td>0.736778</td>\n",
       "      <td>00:21</td>\n",
       "    </tr>\n",
       "    <tr>\n",
       "      <td>4</td>\n",
       "      <td>0.398371</td>\n",
       "      <td>0.739038</td>\n",
       "      <td>00:18</td>\n",
       "    </tr>\n",
       "  </tbody>\n",
       "</table>"
      ],
      "text/plain": [
       "<IPython.core.display.HTML object>"
      ]
     },
     "metadata": {},
     "output_type": "display_data"
    }
   ],
   "source": [
    "model3_learn.fit_one_cycle(5, 0.01, wd=0.1)"
   ]
  },
  {
   "cell_type": "markdown",
   "metadata": {},
   "source": [
    "### <span style='color:rgb(205, 0, 153)'>5.3.4 | Model 3 - Model evaluation on the test data  </span><a class=\"anchor\" id=\"m534\"></a>\n",
    "[Back to Table of Contents](#modelanchor)"
   ]
  },
  {
   "cell_type": "code",
   "execution_count": 306,
   "metadata": {},
   "outputs": [
    {
     "data": {
      "text/html": [
       "\n",
       "<style>\n",
       "    /* Turns off some styling */\n",
       "    progress {\n",
       "        /* gets rid of default border in Firefox and Opera. */\n",
       "        border: none;\n",
       "        /* Needs to be in here for Safari polyfill so background images work as expected. */\n",
       "        background-size: auto;\n",
       "    }\n",
       "    progress:not([value]), progress:not([value])::-webkit-progress-bar {\n",
       "        background: repeating-linear-gradient(45deg, #7e7e7e, #7e7e7e 10px, #5c5c5c 10px, #5c5c5c 20px);\n",
       "    }\n",
       "    .progress-bar-interrupted, .progress-bar-interrupted::-webkit-progress-bar {\n",
       "        background: #F44336;\n",
       "    }\n",
       "</style>\n"
      ],
      "text/plain": [
       "<IPython.core.display.HTML object>"
      ]
     },
     "metadata": {},
     "output_type": "display_data"
    },
    {
     "data": {
      "text/html": [],
      "text/plain": [
       "<IPython.core.display.HTML object>"
      ]
     },
     "metadata": {},
     "output_type": "display_data"
    }
   ],
   "source": [
    "test_dl = model3_learn.dls.test_dl(test_df)\n",
    "preds, y = model3_learn.get_preds(dl=test_dl)"
   ]
  },
  {
   "cell_type": "code",
   "execution_count": 307,
   "metadata": {},
   "outputs": [
    {
     "data": {
      "text/plain": [
       "(tensor([4.3707, 4.1439, 4.2462,  ..., 3.1954, 3.1968, 3.2686]),\n",
       " tensor([[5.0000],\n",
       "         [5.0000],\n",
       "         [4.0000],\n",
       "         ...,\n",
       "         [4.0000],\n",
       "         [3.5000],\n",
       "         [3.5000]]))"
      ]
     },
     "execution_count": 307,
     "metadata": {},
     "output_type": "execute_result"
    }
   ],
   "source": [
    "preds,y"
   ]
  },
  {
   "cell_type": "code",
   "execution_count": 308,
   "metadata": {},
   "outputs": [
    {
     "data": {
      "text/html": [
       "\n",
       "<style>\n",
       "    /* Turns off some styling */\n",
       "    progress {\n",
       "        /* gets rid of default border in Firefox and Opera. */\n",
       "        border: none;\n",
       "        /* Needs to be in here for Safari polyfill so background images work as expected. */\n",
       "        background-size: auto;\n",
       "    }\n",
       "    progress:not([value]), progress:not([value])::-webkit-progress-bar {\n",
       "        background: repeating-linear-gradient(45deg, #7e7e7e, #7e7e7e 10px, #5c5c5c 10px, #5c5c5c 20px);\n",
       "    }\n",
       "    .progress-bar-interrupted, .progress-bar-interrupted::-webkit-progress-bar {\n",
       "        background: #F44336;\n",
       "    }\n",
       "</style>\n"
      ],
      "text/plain": [
       "<IPython.core.display.HTML object>"
      ]
     },
     "metadata": {},
     "output_type": "display_data"
    },
    {
     "data": {
      "text/html": [],
      "text/plain": [
       "<IPython.core.display.HTML object>"
      ]
     },
     "metadata": {},
     "output_type": "display_data"
    }
   ],
   "source": [
    "preds, y = model3_learn.get_preds(dl=test_dl)\n",
    "#preds, _, decoded = learn.get_preds(dl=test_dl, with_decoded=True)"
   ]
  },
  {
   "cell_type": "code",
   "execution_count": 309,
   "metadata": {},
   "outputs": [],
   "source": [
    "from sklearn.metrics import mean_absolute_error as mae\n",
    "mae3 = mae(y,preds)"
   ]
  },
  {
   "cell_type": "code",
   "execution_count": 310,
   "metadata": {},
   "outputs": [
    {
     "data": {
      "text/html": [
       "<div>\n",
       "<style scoped>\n",
       "    .dataframe tbody tr th:only-of-type {\n",
       "        vertical-align: middle;\n",
       "    }\n",
       "\n",
       "    .dataframe tbody tr th {\n",
       "        vertical-align: top;\n",
       "    }\n",
       "\n",
       "    .dataframe thead th {\n",
       "        text-align: right;\n",
       "    }\n",
       "</style>\n",
       "<table border=\"1\" class=\"dataframe\">\n",
       "  <thead>\n",
       "    <tr style=\"text-align: right;\">\n",
       "      <th></th>\n",
       "      <th>S.No.</th>\n",
       "      <th>Model</th>\n",
       "      <th>Method</th>\n",
       "      <th>Mean Absolute Error</th>\n",
       "    </tr>\n",
       "  </thead>\n",
       "  <tbody>\n",
       "    <tr>\n",
       "      <th>0</th>\n",
       "      <td>1</td>\n",
       "      <td>Model 1</td>\n",
       "      <td>Matrix factorization method using Neural Networks</td>\n",
       "      <td>0.872319</td>\n",
       "    </tr>\n",
       "    <tr>\n",
       "      <th>1</th>\n",
       "      <td>2</td>\n",
       "      <td>Model 2</td>\n",
       "      <td>Tabular Data Method using Neural Network</td>\n",
       "      <td>0.870709</td>\n",
       "    </tr>\n",
       "    <tr>\n",
       "      <th>2</th>\n",
       "      <td>3</td>\n",
       "      <td>Model 3</td>\n",
       "      <td>Collaborative Filtering Model using fast.ai</td>\n",
       "      <td>0.835754</td>\n",
       "    </tr>\n",
       "  </tbody>\n",
       "</table>\n",
       "</div>"
      ],
      "text/plain": [
       "  S.No.    Model                                             Method  \\\n",
       "0     1  Model 1  Matrix factorization method using Neural Networks   \n",
       "1     2  Model 2           Tabular Data Method using Neural Network   \n",
       "2     3  Model 3        Collaborative Filtering Model using fast.ai   \n",
       "\n",
       "  Mean Absolute Error  \n",
       "0            0.872319  \n",
       "1            0.870709  \n",
       "2            0.835754  "
      ]
     },
     "execution_count": 310,
     "metadata": {},
     "output_type": "execute_result"
    }
   ],
   "source": [
    "testingPerformance = testingPerformance.append({'S.No.' : 3, 'Model':'Model 3','Method' : 'Collaborative Filtering Model using fast.ai', 'Mean Absolute Error' : mae3}, ignore_index = True) \n",
    "testingPerformance"
   ]
  },
  {
   "cell_type": "markdown",
   "metadata": {},
   "source": [
    "## <span style='color:rgb(205, 0, 153)'>5.4 | Model 4 - Collaborative Filtering with Neural Network (fast.ai) </span><a class=\"anchor\" id=\"model4\"></a> \n",
    "[Back to Table of Contents](#modelanchor)\n",
    "<hr>"
   ]
  },
  {
   "cell_type": "markdown",
   "metadata": {},
   "source": [
    "### <span style='color:rgb(205, 0, 153)'>5.4.1 | Model 4 - Define the model </span><a class=\"anchor\" id=\"m541\"></a>\n",
    "[Back to Table of Contents](#modelanchor)"
   ]
  },
  {
   "cell_type": "code",
   "execution_count": 311,
   "metadata": {
    "execution": {
     "iopub.execute_input": "2022-12-14T15:56:56.977157Z",
     "iopub.status.busy": "2022-12-14T15:56:56.976632Z",
     "iopub.status.idle": "2022-12-14T15:56:56.983778Z",
     "shell.execute_reply": "2022-12-14T15:56:56.982401Z",
     "shell.execute_reply.started": "2022-12-14T15:56:56.977112Z"
    }
   },
   "outputs": [],
   "source": [
    "# %%script false \n",
    "\n",
    "## import fast.ai modules\n",
    "from fastai import *\n",
    "from fastai.collab import *\n",
    "from fastai.tabular import *\n",
    "\n",
    "## define user/item column names in the training data\n",
    "user, item = 'userId','movieId'\n",
    "#data = CollabDataBunch.from_df(train_df, seed=42, test=test_df)\n",
    "data = CollabDataLoaders.from_df(train_df, seed=42, test=test_df)\n",
    "y_range = [0, 5.5]\n",
    "emb_szs_param= {}\n",
    "emb_szs_param['movieId']=50\n",
    "emb_szs_param['userId']=50\n",
    "model4_learn = collab_learner(data, use_nn=True, n_factors = 10,emb_szs=emb_szs_param, layers=[256,128,64],y_range = y_range)"
   ]
  },
  {
   "cell_type": "markdown",
   "metadata": {},
   "source": [
    "### <span style='color:rgb(205, 0, 153)'>5.4.2 | Model 4 - Find the best learning rate </span><a class=\"anchor\" id=\"m542\"></a>\n",
    "\n",
    "We utilise the learning rate finder using lr_find() function to choose a best rate for the optimizer before we train the model."
   ]
  },
  {
   "cell_type": "code",
   "execution_count": 312,
   "metadata": {},
   "outputs": [
    {
     "data": {
      "text/html": [
       "\n",
       "<style>\n",
       "    /* Turns off some styling */\n",
       "    progress {\n",
       "        /* gets rid of default border in Firefox and Opera. */\n",
       "        border: none;\n",
       "        /* Needs to be in here for Safari polyfill so background images work as expected. */\n",
       "        background-size: auto;\n",
       "    }\n",
       "    progress:not([value]), progress:not([value])::-webkit-progress-bar {\n",
       "        background: repeating-linear-gradient(45deg, #7e7e7e, #7e7e7e 10px, #5c5c5c 10px, #5c5c5c 20px);\n",
       "    }\n",
       "    .progress-bar-interrupted, .progress-bar-interrupted::-webkit-progress-bar {\n",
       "        background: #F44336;\n",
       "    }\n",
       "</style>\n"
      ],
      "text/plain": [
       "<IPython.core.display.HTML object>"
      ]
     },
     "metadata": {},
     "output_type": "display_data"
    },
    {
     "data": {
      "text/html": [],
      "text/plain": [
       "<IPython.core.display.HTML object>"
      ]
     },
     "metadata": {},
     "output_type": "display_data"
    },
    {
     "data": {
      "text/plain": [
       "SuggestedLRs(valley=0.001737800776027143)"
      ]
     },
     "execution_count": 312,
     "metadata": {},
     "output_type": "execute_result"
    },
    {
     "data": {
      "image/png": "[encoded data removed]",
      "text/plain": [
       "<Figure size 432x288 with 1 Axes>"
      ]
     },
     "metadata": {},
     "output_type": "display_data"
    }
   ],
   "source": [
    "model4_learn.lr_find()"
   ]
  },
  {
   "cell_type": "markdown",
   "metadata": {},
   "source": [
    "By looking at the graph, we can observe that the best learning rate suggested is approximately 0.005. Y - axis depicts the learning loss while X-axis depicts the learning rate. Red dot shows the minimum gradient of the learning curve. Here, we train for 5 epochs."
   ]
  },
  {
   "cell_type": "markdown",
   "metadata": {},
   "source": [
    "### <span style='color:rgb(205, 0, 153)'>5.4.3 | Model 4 - Train the model </span><a class=\"anchor\" id=\"m543\"></a>"
   ]
  },
  {
   "cell_type": "code",
   "execution_count": 313,
   "metadata": {
    "execution": {
     "iopub.execute_input": "2022-12-14T15:57:02.852112Z",
     "iopub.status.busy": "2022-12-14T15:57:02.851647Z",
     "iopub.status.idle": "2022-12-14T15:57:02.857338Z",
     "shell.execute_reply": "2022-12-14T15:57:02.856147Z",
     "shell.execute_reply.started": "2022-12-14T15:57:02.852057Z"
    }
   },
   "outputs": [
    {
     "data": {
      "text/html": [
       "\n",
       "<style>\n",
       "    /* Turns off some styling */\n",
       "    progress {\n",
       "        /* gets rid of default border in Firefox and Opera. */\n",
       "        border: none;\n",
       "        /* Needs to be in here for Safari polyfill so background images work as expected. */\n",
       "        background-size: auto;\n",
       "    }\n",
       "    progress:not([value]), progress:not([value])::-webkit-progress-bar {\n",
       "        background: repeating-linear-gradient(45deg, #7e7e7e, #7e7e7e 10px, #5c5c5c 10px, #5c5c5c 20px);\n",
       "    }\n",
       "    .progress-bar-interrupted, .progress-bar-interrupted::-webkit-progress-bar {\n",
       "        background: #F44336;\n",
       "    }\n",
       "</style>\n"
      ],
      "text/plain": [
       "<IPython.core.display.HTML object>"
      ]
     },
     "metadata": {},
     "output_type": "display_data"
    },
    {
     "data": {
      "text/html": [
       "<table border=\"1\" class=\"dataframe\">\n",
       "  <thead>\n",
       "    <tr style=\"text-align: left;\">\n",
       "      <th>epoch</th>\n",
       "      <th>train_loss</th>\n",
       "      <th>valid_loss</th>\n",
       "      <th>time</th>\n",
       "    </tr>\n",
       "  </thead>\n",
       "  <tbody>\n",
       "    <tr>\n",
       "      <td>0</td>\n",
       "      <td>0.834588</td>\n",
       "      <td>0.834273</td>\n",
       "      <td>00:36</td>\n",
       "    </tr>\n",
       "    <tr>\n",
       "      <td>1</td>\n",
       "      <td>0.745842</td>\n",
       "      <td>0.755771</td>\n",
       "      <td>00:43</td>\n",
       "    </tr>\n",
       "    <tr>\n",
       "      <td>2</td>\n",
       "      <td>0.653942</td>\n",
       "      <td>0.750931</td>\n",
       "      <td>00:42</td>\n",
       "    </tr>\n",
       "  </tbody>\n",
       "</table>"
      ],
      "text/plain": [
       "<IPython.core.display.HTML object>"
      ]
     },
     "metadata": {},
     "output_type": "display_data"
    }
   ],
   "source": [
    "model4_learn.fit_one_cycle(3, 0.005, wd=0.1)"
   ]
  },
  {
   "cell_type": "markdown",
   "metadata": {},
   "source": [
    "### <span style='color:rgb(205, 0, 153)'>5.4.4 | Model 4 - Model evaluation on the test data  </span><a class=\"anchor\" id=\"m544\"></a>\n",
    "[Back to Table of Contents](#modelanchor)"
   ]
  },
  {
   "cell_type": "code",
   "execution_count": 314,
   "metadata": {},
   "outputs": [
    {
     "data": {
      "text/html": [
       "\n",
       "<style>\n",
       "    /* Turns off some styling */\n",
       "    progress {\n",
       "        /* gets rid of default border in Firefox and Opera. */\n",
       "        border: none;\n",
       "        /* Needs to be in here for Safari polyfill so background images work as expected. */\n",
       "        background-size: auto;\n",
       "    }\n",
       "    progress:not([value]), progress:not([value])::-webkit-progress-bar {\n",
       "        background: repeating-linear-gradient(45deg, #7e7e7e, #7e7e7e 10px, #5c5c5c 10px, #5c5c5c 20px);\n",
       "    }\n",
       "    .progress-bar-interrupted, .progress-bar-interrupted::-webkit-progress-bar {\n",
       "        background: #F44336;\n",
       "    }\n",
       "</style>\n"
      ],
      "text/plain": [
       "<IPython.core.display.HTML object>"
      ]
     },
     "metadata": {},
     "output_type": "display_data"
    },
    {
     "data": {
      "text/html": [],
      "text/plain": [
       "<IPython.core.display.HTML object>"
      ]
     },
     "metadata": {},
     "output_type": "display_data"
    }
   ],
   "source": [
    "test_dl = model4_learn.dls.test_dl(test_df)\n",
    "preds, y = model4_learn.get_preds(dl=test_dl)"
   ]
  },
  {
   "cell_type": "code",
   "execution_count": 315,
   "metadata": {},
   "outputs": [],
   "source": [
    "from sklearn.metrics import mean_absolute_error as mae\n",
    "mae4 = mae(y,preds)"
   ]
  },
  {
   "cell_type": "code",
   "execution_count": 316,
   "metadata": {
    "scrolled": true
   },
   "outputs": [],
   "source": [
    "testingPerformance = testingPerformance.append({'S.No.' : 4, 'Model':'Model 4', 'Method' : 'Collaborative Filtering Model with Neural Network (fast.ai)', 'Mean Absolute Error' : mae4}, ignore_index = True) "
   ]
  },
  {
   "cell_type": "code",
   "execution_count": 474,
   "metadata": {},
   "outputs": [],
   "source": [
    "#testingPerformance = testingPerformance.drop(4)"
   ]
  },
  {
   "cell_type": "markdown",
   "metadata": {},
   "source": [
    "## <span style='color:rgb(205, 0, 153)'>6 | Results and Model Comparison </span><a class=\"anchor\" id=\"modelcomparison\"></a> \n",
    "[Back to Table of Contents](#modelanchor)\n",
    "<hr>\n",
    "\n",
    "We have compare performance of four models 1) Matrix factorization method using Neural Networks, 2) Tabular Data Method using NN, 3) Collaborative Filtering Model using fast.ai and 4) Collaborative Filtering Model with Neural Network (fast.ai).\t"
   ]
  },
  {
   "cell_type": "markdown",
   "metadata": {},
   "source": [
    "### <span style='color:rgb(205, 0, 153)'>6.2 | Performance of the models </span><a class=\"anchor\" id=\"modelcomparison\"></a> \n",
    "[Back to Table of Contents](#modelanchor)"
   ]
  },
  {
   "cell_type": "code",
   "execution_count": 317,
   "metadata": {},
   "outputs": [
    {
     "data": {
      "text/html": [
       "<div>\n",
       "<style scoped>\n",
       "    .dataframe tbody tr th:only-of-type {\n",
       "        vertical-align: middle;\n",
       "    }\n",
       "\n",
       "    .dataframe tbody tr th {\n",
       "        vertical-align: top;\n",
       "    }\n",
       "\n",
       "    .dataframe thead th {\n",
       "        text-align: right;\n",
       "    }\n",
       "</style>\n",
       "<table border=\"1\" class=\"dataframe\">\n",
       "  <thead>\n",
       "    <tr style=\"text-align: right;\">\n",
       "      <th></th>\n",
       "      <th>S.No.</th>\n",
       "      <th>Model</th>\n",
       "      <th>Method</th>\n",
       "      <th>Mean Absolute Error</th>\n",
       "    </tr>\n",
       "  </thead>\n",
       "  <tbody>\n",
       "    <tr>\n",
       "      <th>0</th>\n",
       "      <td>1</td>\n",
       "      <td>Model 1</td>\n",
       "      <td>Matrix factorization method using Neural Networks</td>\n",
       "      <td>0.872319</td>\n",
       "    </tr>\n",
       "    <tr>\n",
       "      <th>1</th>\n",
       "      <td>2</td>\n",
       "      <td>Model 2</td>\n",
       "      <td>Tabular Data Method using Neural Network</td>\n",
       "      <td>0.870709</td>\n",
       "    </tr>\n",
       "    <tr>\n",
       "      <th>2</th>\n",
       "      <td>3</td>\n",
       "      <td>Model 3</td>\n",
       "      <td>Collaborative Filtering Model using fast.ai</td>\n",
       "      <td>0.835754</td>\n",
       "    </tr>\n",
       "    <tr>\n",
       "      <th>3</th>\n",
       "      <td>4</td>\n",
       "      <td>Model 4</td>\n",
       "      <td>Collaborative Filtering Model with Neural Network (fast.ai)</td>\n",
       "      <td>0.826046</td>\n",
       "    </tr>\n",
       "  </tbody>\n",
       "</table>\n",
       "</div>"
      ],
      "text/plain": [
       "  S.No.    Model                                                       Method  \\\n",
       "0     1  Model 1            Matrix factorization method using Neural Networks   \n",
       "1     2  Model 2                     Tabular Data Method using Neural Network   \n",
       "2     3  Model 3                  Collaborative Filtering Model using fast.ai   \n",
       "3     4  Model 4  Collaborative Filtering Model with Neural Network (fast.ai)   \n",
       "\n",
       "  Mean Absolute Error  \n",
       "0            0.872319  \n",
       "1            0.870709  \n",
       "2            0.835754  \n",
       "3            0.826046  "
      ]
     },
     "execution_count": 317,
     "metadata": {},
     "output_type": "execute_result"
    }
   ],
   "source": [
    "testingPerformance"
   ]
  },
  {
   "cell_type": "code",
   "execution_count": 318,
   "metadata": {},
   "outputs": [
    {
     "name": "stdout",
     "output_type": "stream",
     "text": [
      "Let's have a look on the performance of the models:\n"
     ]
    },
    {
     "data": {
      "image/png": "[encoded data removed]",
      "text/plain": [
       "<Figure size 720x432 with 1 Axes>"
      ]
     },
     "metadata": {},
     "output_type": "display_data"
    }
   ],
   "source": [
    "print(f\"Let's have a look on the performance of the models:\")\n",
    "plt.subplots(figsize=(10,6))\n",
    "\n",
    "lp=sns.lineplot(x=testingPerformance[\"Model\"] ,y=testingPerformance[\"Mean Absolute Error\"],data=testingPerformance,color=palette[1],marker=\"o\",linewidth=8,markersize=20,markerfacecolor=\"orange\",markeredgecolor=\"black\",markeredgewidth=3)\n",
    "lp.axes.set_title(\"Model Comparisons : Mean Absolute Error (lower is better)\\n\",fontsize=20)\n",
    "lp.axes.set_xlabel(\"\\nModels\",fontsize=18)\n",
    "lp.axes.set_ylabel(\"MAE\",fontsize=18)\n",
    "\n",
    "sns.despine(left=True, bottom=True)\n",
    "plt.show()"
   ]
  },
  {
   "cell_type": "code",
   "execution_count": 319,
   "metadata": {},
   "outputs": [
    {
     "name": "stdout",
     "output_type": "stream",
     "text": [
      "The mean absolute error achieved by \n",
      "model1 = 0.8723188638687134, \n",
      "model2 = 0.8707090020179749, \n",
      "model3 = 0.8357543349266052, \n",
      "and model4 = 0.8260462880134583\n"
     ]
    }
   ],
   "source": [
    "print(\"The mean absolute error achieved by \\nmodel1 = {}, \\nmodel2 = {}, \\nmodel3 = {}, \\nand model4 = {}\".format(mae1,mae2,mae3,mae4))"
   ]
  },
  {
   "cell_type": "markdown",
   "metadata": {},
   "source": [
    "The best prediction performance was achieved by __Model 4 (Collaborative Filtering with Neural Network (fast.ai))__, which is 0.8245 mean absolute error."
   ]
  },
  {
   "cell_type": "markdown",
   "metadata": {},
   "source": [
    "### <span style='color:rgb(205, 0, 153)'>7 | Saving and Loading the Model for the Deployment </span><a class=\"anchor\" id=\"modeldeployment\"></a> \n",
    "[Back to Table of Contents](#modelanchor)"
   ]
  },
  {
   "cell_type": "code",
   "execution_count": 320,
   "metadata": {},
   "outputs": [],
   "source": [
    "model4_learn.export('D:/Learner CARES/Kaggle/Recomendation System/Final/model4_learn.pkl')"
   ]
  },
  {
   "cell_type": "code",
   "execution_count": 177,
   "metadata": {},
   "outputs": [
    {
     "data": {
      "text/plain": [
       "<fastai.learner.Learner at 0x1b50165b790>"
      ]
     },
     "execution_count": 177,
     "metadata": {},
     "output_type": "execute_result"
    }
   ],
   "source": [
    "model4_learn"
   ]
  },
  {
   "cell_type": "markdown",
   "metadata": {},
   "source": [
    "#### <span style='color:rgb(205, 0, 153)'>Saving the Model </span><a class=\"anchor\" id=\"savemodel\"></a> \n",
    "[Back to Table of Contents](#modelanchor)"
   ]
  },
  {
   "cell_type": "code",
   "execution_count": 321,
   "metadata": {},
   "outputs": [],
   "source": [
    "import pickle\n",
    "# Please add path\n",
    "pickle.dump(model4_learn, open('/model4.pkl', 'wb'))"
   ]
  },
  {
   "cell_type": "markdown",
   "metadata": {},
   "source": [
    "#### <span style='color:rgb(205, 0, 153)'>Loading the Model </span><a class=\"anchor\" id=\"loadmodel\"></a> \n",
    "[Back to Table of Contents](#modelanchor)"
   ]
  },
  {
   "cell_type": "code",
   "execution_count": 322,
   "metadata": {},
   "outputs": [],
   "source": [
    "# Please add path\n",
    "model = pickle.load(open('/model4.pkl', 'rb'))\n",
    "#model = load_learner('D:/Learner CARES/Kaggle/Recomendation System/Final/model4_learn.pkl', cpu=False)"
   ]
  },
  {
   "cell_type": "code",
   "execution_count": 181,
   "metadata": {},
   "outputs": [
    {
     "data": {
      "text/html": [
       "\n",
       "<style>\n",
       "    /* Turns off some styling */\n",
       "    progress {\n",
       "        /* gets rid of default border in Firefox and Opera. */\n",
       "        border: none;\n",
       "        /* Needs to be in here for Safari polyfill so background images work as expected. */\n",
       "        background-size: auto;\n",
       "    }\n",
       "    progress:not([value]), progress:not([value])::-webkit-progress-bar {\n",
       "        background: repeating-linear-gradient(45deg, #7e7e7e, #7e7e7e 10px, #5c5c5c 10px, #5c5c5c 20px);\n",
       "    }\n",
       "    .progress-bar-interrupted, .progress-bar-interrupted::-webkit-progress-bar {\n",
       "        background: #F44336;\n",
       "    }\n",
       "</style>\n"
      ],
      "text/plain": [
       "<IPython.core.display.HTML object>"
      ]
     },
     "metadata": {},
     "output_type": "display_data"
    },
    {
     "data": {
      "text/html": [],
      "text/plain": [
       "<IPython.core.display.HTML object>"
      ]
     },
     "metadata": {},
     "output_type": "display_data"
    }
   ],
   "source": [
    "test_dl = model.dls.test_dl(pd.DataFrame( {'userId': [610], 'movieId': [0]}))\n",
    "preds, y = model.get_preds(dl=test_dl)"
   ]
  },
  {
   "cell_type": "code",
   "execution_count": 182,
   "metadata": {},
   "outputs": [
    {
     "data": {
      "text/plain": [
       "(tensor([[4.2939]]), None)"
      ]
     },
     "execution_count": 182,
     "metadata": {},
     "output_type": "execute_result"
    }
   ],
   "source": [
    "preds, y"
   ]
  },
  {
   "cell_type": "markdown",
   "metadata": {},
   "source": [
    "### <span style='color:rgb(205, 0, 153)'>8 | Movie Recommendation System </span><a class=\"anchor\" id=\"MRSExample\"></a> \n",
    "[Back to Table of Contents](#modelanchor)"
   ]
  },
  {
   "cell_type": "code",
   "execution_count": 359,
   "metadata": {},
   "outputs": [],
   "source": [
    "def Movie_Recommendation_System(user_Id, model, num_movies):\n",
    "    print(\"\")\n",
    "    #print(\"Already watched movies by the User:\")\n",
    "    #print(list(user_movie_data[user_movie_data['userId'] == user_Id]['title']))\n",
    "    print(\"\")\n",
    "    watched_movies = list(user_movie_data[user_movie_data['userId'] == user_Id]['movieId'])\n",
    "    unwatched_movies = [i for i in range(min(user_movie_data['movieId']), max(user_movie_data['movieId'])+1) if i not in watched_movies]\n",
    "    model_input = pd.DataFrame( {'userId': user_id*len(unwatched_movies), 'movieId': unwatched_movies})\n",
    "    test_dl = model.dls.test_dl(model_input)\n",
    "    preds, y = model.get_preds(dl=test_dl)\n",
    "    model_output = model_input\n",
    "    model_output['pred_ratings'] = preds\n",
    "    model_output = model_output.sort_values(by=['pred_ratings'], ascending=False)\n",
    "    model_output = pd.merge(model_output, movie_df, how='inner', on='movieId')\n",
    "    recommended_movies = model_output['title']\n",
    "    print(\"*\"*120)\n",
    "    print(\"Top \"+str(num_movies)+\" Movie Recommendations for the User \"+str(user_Id)+ \" are:\")\n",
    "    print(list(recommended_movies[:num_movies]))\n",
    "    print(\"*\"*120)"
   ]
  },
  {
   "cell_type": "code",
   "execution_count": 356,
   "metadata": {},
   "outputs": [
    {
     "data": {
      "text/html": [
       "<div>\n",
       "<style scoped>\n",
       "    .dataframe tbody tr th:only-of-type {\n",
       "        vertical-align: middle;\n",
       "    }\n",
       "\n",
       "    .dataframe tbody tr th {\n",
       "        vertical-align: top;\n",
       "    }\n",
       "\n",
       "    .dataframe thead th {\n",
       "        text-align: right;\n",
       "    }\n",
       "</style>\n",
       "<table border=\"1\" class=\"dataframe\">\n",
       "  <thead>\n",
       "    <tr style=\"text-align: right;\">\n",
       "      <th></th>\n",
       "      <th>userId</th>\n",
       "      <th>movieId</th>\n",
       "      <th>rating</th>\n",
       "      <th>timestamp</th>\n",
       "      <th>title</th>\n",
       "      <th>genres</th>\n",
       "    </tr>\n",
       "  </thead>\n",
       "  <tbody>\n",
       "    <tr>\n",
       "      <th>0</th>\n",
       "      <td>1</td>\n",
       "      <td>1</td>\n",
       "      <td>4.0</td>\n",
       "      <td>964982703</td>\n",
       "      <td>Toy Story (1995)</td>\n",
       "      <td>Adventure|Animation|Children|Comedy|Fantasy</td>\n",
       "    </tr>\n",
       "    <tr>\n",
       "      <th>1</th>\n",
       "      <td>5</td>\n",
       "      <td>1</td>\n",
       "      <td>4.0</td>\n",
       "      <td>847434962</td>\n",
       "      <td>Toy Story (1995)</td>\n",
       "      <td>Adventure|Animation|Children|Comedy|Fantasy</td>\n",
       "    </tr>\n",
       "    <tr>\n",
       "      <th>2</th>\n",
       "      <td>7</td>\n",
       "      <td>1</td>\n",
       "      <td>4.5</td>\n",
       "      <td>1106635946</td>\n",
       "      <td>Toy Story (1995)</td>\n",
       "      <td>Adventure|Animation|Children|Comedy|Fantasy</td>\n",
       "    </tr>\n",
       "    <tr>\n",
       "      <th>3</th>\n",
       "      <td>15</td>\n",
       "      <td>1</td>\n",
       "      <td>2.5</td>\n",
       "      <td>1510577970</td>\n",
       "      <td>Toy Story (1995)</td>\n",
       "      <td>Adventure|Animation|Children|Comedy|Fantasy</td>\n",
       "    </tr>\n",
       "    <tr>\n",
       "      <th>4</th>\n",
       "      <td>17</td>\n",
       "      <td>1</td>\n",
       "      <td>4.5</td>\n",
       "      <td>1305696483</td>\n",
       "      <td>Toy Story (1995)</td>\n",
       "      <td>Adventure|Animation|Children|Comedy|Fantasy</td>\n",
       "    </tr>\n",
       "  </tbody>\n",
       "</table>\n",
       "</div>"
      ],
      "text/plain": [
       "   userId  movieId  rating   timestamp             title  \\\n",
       "0       1        1     4.0   964982703  Toy Story (1995)   \n",
       "1       5        1     4.0   847434962  Toy Story (1995)   \n",
       "2       7        1     4.5  1106635946  Toy Story (1995)   \n",
       "3      15        1     2.5  1510577970  Toy Story (1995)   \n",
       "4      17        1     4.5  1305696483  Toy Story (1995)   \n",
       "\n",
       "                                        genres  \n",
       "0  Adventure|Animation|Children|Comedy|Fantasy  \n",
       "1  Adventure|Animation|Children|Comedy|Fantasy  \n",
       "2  Adventure|Animation|Children|Comedy|Fantasy  \n",
       "3  Adventure|Animation|Children|Comedy|Fantasy  \n",
       "4  Adventure|Animation|Children|Comedy|Fantasy  "
      ]
     },
     "execution_count": 356,
     "metadata": {},
     "output_type": "execute_result"
    }
   ],
   "source": [
    "user_movie_data.head(5)"
   ]
  },
  {
   "cell_type": "code",
   "execution_count": 360,
   "metadata": {},
   "outputs": [
    {
     "name": "stdout",
     "output_type": "stream",
     "text": [
      "Please Enter User Id:\n",
      "17\n",
      "\n",
      "Enter Number of Movies to be Recommended by the Model:\n",
      "5\n",
      "\n",
      "\n"
     ]
    },
    {
     "data": {
      "text/html": [
       "\n",
       "<style>\n",
       "    /* Turns off some styling */\n",
       "    progress {\n",
       "        /* gets rid of default border in Firefox and Opera. */\n",
       "        border: none;\n",
       "        /* Needs to be in here for Safari polyfill so background images work as expected. */\n",
       "        background-size: auto;\n",
       "    }\n",
       "    progress:not([value]), progress:not([value])::-webkit-progress-bar {\n",
       "        background: repeating-linear-gradient(45deg, #7e7e7e, #7e7e7e 10px, #5c5c5c 10px, #5c5c5c 20px);\n",
       "    }\n",
       "    .progress-bar-interrupted, .progress-bar-interrupted::-webkit-progress-bar {\n",
       "        background: #F44336;\n",
       "    }\n",
       "</style>\n"
      ],
      "text/plain": [
       "<IPython.core.display.HTML object>"
      ]
     },
     "metadata": {},
     "output_type": "display_data"
    },
    {
     "data": {
      "text/html": [],
      "text/plain": [
       "<IPython.core.display.HTML object>"
      ]
     },
     "metadata": {},
     "output_type": "display_data"
    },
    {
     "name": "stdout",
     "output_type": "stream",
     "text": [
      "************************************************************************************************************************\n",
      "Top 5 Movie Recommendations for the User 17 are:\n",
      "['Party Girl (1995)', 'Speechless (1994)', 'Casino (1995)', 'Center of the World, The (2001)', '39 Steps, The (1935)']\n",
      "************************************************************************************************************************\n"
     ]
    }
   ],
   "source": [
    "# Please add path\n",
    "model = pickle.load(open('/model4.pkl', 'rb'))\n",
    "print(\"Please Enter User Id:\")\n",
    "#user_Id= 610\n",
    "user_Id= int(input())\n",
    "print(\"\")\n",
    "print(\"Enter Number of Movies to be Recommended by the Model:\")\n",
    "#num_movies = 5\n",
    "num_movies = int(input())\n",
    "Movie_Recommendation_System(user_Id,model,num_movies)"
   ]
  },
  {
   "cell_type": "markdown",
   "metadata": {},
   "source": [
    "## <span style='color:rgb(205, 0, 153)'>References </span><a class=\"anchor\" id=\"references\"></a> "
   ]
  },
  {
   "cell_type": "markdown",
   "metadata": {},
   "source": [
    "1. F. Maxwell Harper and Joseph A. Konstan. 2015. The MovieLens Datasets: History and Context. ACM Transactions on Interactive Intelligent Systems (TiiS) 5, 4: 19:1–19:19 <a class=\"anchor\" id=\"1\"></a>\n",
    "\n",
    "2. Howard J, Gugger S. Fastai: a layered API for deep learning. Information. 2020 Feb 16;11(2):108.<a class=\"anchor\" id=\"2\"></a>"
   ]
  }
 ],
 "metadata": {
  "kernelspec": {
   "display_name": "Python 3 (ipykernel)",
   "language": "python",
   "name": "python3"
  },
  "language_info": {
   "codemirror_mode": {
    "name": "ipython",
    "version": 3
   },
   "file_extension": ".py",
   "mimetype": "text/x-python",
   "name": "python",
   "nbconvert_exporter": "python",
   "pygments_lexer": "ipython3",
   "version": "3.9.12"
  }
 },
 "nbformat": 4,
 "nbformat_minor": 4
}
